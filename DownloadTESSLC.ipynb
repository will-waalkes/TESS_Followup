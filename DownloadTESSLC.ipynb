{
 "cells": [
  {
   "cell_type": "code",
   "execution_count": null,
   "metadata": {},
   "outputs": [],
   "source": [
    "%matplotlib inline\n",
    "import lightkurve as lk\n",
    "import pandas\n",
    "import numpy as np\n",
    "import matplotlib.pyplot as plt\n",
    "from astropy.io import ascii\n",
    "from astropy.table import Table, Column\n",
    "import lightkurve\n",
    "import emcee\n",
    "from lightkurve.lightcurve import LightCurve"
   ]
  },
  {
   "cell_type": "code",
   "execution_count": null,
   "metadata": {},
   "outputs": [],
   "source": [
    "tic_id = '259962054'\n",
    "lcf = lk.search_lightcurvefile('TIC {}'.format(int(tic_id)))#.download_all()\n",
    "lcf"
   ]
  },
  {
   "cell_type": "code",
   "execution_count": null,
   "metadata": {},
   "outputs": [],
   "source": [
    "TLC = lcf[2].PDCSAP_FLUX.remove_outliers(sigma=10).normalize()\n",
    "n = 2\n",
    "\n",
    "fig, (ax0,ax1) = plt.subplots(2,1,figsize=(11,9))\n",
    "\n",
    "#init_model = BATMAN(planet_period,planet_radius,t0=Epoch,inc=planet_i,\n",
    "#                    A=planet_a,LD=[0.31,0.32],t = TLC.time)\n",
    "\n",
    "ingress = (Epoch+n*planet_period)-(planet_duration/2)/24\n",
    "egress = (Epoch+n*planet_period)+(planet_duration/2)/24\n",
    "\n",
    "ax0.scatter(TLC.time, TLC.flux, alpha=0.1,rasterized=True)\n",
    "ax0.axvspan(ingress, egress, alpha=0.5, color='pink')\n",
    "\n",
    "ax0.set_ylabel('Normalized Flux')\n",
    "ax0.set_ylim(0.98,1.02)\n",
    "\n",
    "\n",
    "ax1.scatter(TLC.bin(binsize=5).time, TLC.bin(binsize=5).flux, alpha=0.2)\n",
    "ax1.axvspan(ingress, egress, alpha=0.5, color='pink',zorder=-2)\n",
    "#ax1.plot(TLC.time, init_model, color='k',zorder=-1)\n",
    "\n",
    "ax1.set_xlim(ingress-0.5, egress+0.5)\n",
    "ax1.set_ylim(0.99,1.01)\n",
    "ax1.set_ylabel('Normalized Flux')\n",
    "ax1.set_xlabel('BJD TDB')\n",
    "\n",
    "#plt.savefig('Figs/TOI_203_Third_sector.pdf')\n",
    "plt.show()"
   ]
  },
  {
   "cell_type": "code",
   "execution_count": null,
   "metadata": {},
   "outputs": [],
   "source": []
  }
 ],
 "metadata": {
  "kernelspec": {
   "display_name": "Python 3",
   "language": "python",
   "name": "python3"
  },
  "language_info": {
   "codemirror_mode": {
    "name": "ipython",
    "version": 3
   },
   "file_extension": ".py",
   "mimetype": "text/x-python",
   "name": "python",
   "nbconvert_exporter": "python",
   "pygments_lexer": "ipython3",
   "version": "3.7.5"
  }
 },
 "nbformat": 4,
 "nbformat_minor": 4
}
