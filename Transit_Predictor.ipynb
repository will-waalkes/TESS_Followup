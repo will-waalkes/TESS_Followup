{
 "cells": [
  {
   "cell_type": "code",
   "execution_count": 1,
   "metadata": {},
   "outputs": [],
   "source": [
    "import numpy as np\n",
    "import matplotlib.pyplot as plt\n",
    "from astropy.time import Time\n",
    "from astropy import coordinates as coord, units as u"
   ]
  },
  {
   "cell_type": "code",
   "execution_count": 2,
   "metadata": {},
   "outputs": [],
   "source": [
    "def transit_predictor(planet,period,epoch,duration,Range=600,plot=True):\n",
    "        \n",
    "    dur = duration/(24.0) #convert hrs to days\n",
    "    \n",
    "    t = np.linspace(0,Range,Range+1)\n",
    "    times = epoch + period*t\n",
    "    \n",
    "    t = Time(times, format='jd')\n",
    "    now = Time.now().jd\n",
    "    i = (now - epoch)/period\n",
    "    i = int(i)\n",
    "    \n",
    "    transitsicareabout = t[i:(i+40)]\n",
    "    for onetransitcenter in transitsicareabout:\n",
    "        \n",
    "        start = onetransitcenter - (1.5*duration*u.hour)\n",
    "        end = onetransitcenter + (1.5*duration*u.hour)\n",
    "        \n",
    "        print(start.iso)\n",
    "        print(end.iso)\n",
    "        print(\"\")"
   ]
  },
  {
   "cell_type": "code",
   "execution_count": 4,
   "metadata": {},
   "outputs": [],
   "source": [
    "#transit_predictor('TIC: 290348382',period=6.44049,epoch=1658.78715+2457000.0,duration=1.85)"
   ]
  },
  {
   "cell_type": "code",
   "execution_count": 5,
   "metadata": {},
   "outputs": [],
   "source": [
    "#transit_predictor('TIC: 429358906',period=16.047916,epoch=1577.042852+2457000.0,duration=1.71)"
   ]
  },
  {
   "cell_type": "code",
   "execution_count": 90,
   "metadata": {},
   "outputs": [],
   "source": [
    "#transit_predictor('TIC: 467179528',period=10.895412,epoch=1691.004583+2457000.0,duration=2.06)"
   ]
  },
  {
   "cell_type": "code",
   "execution_count": 6,
   "metadata": {},
   "outputs": [],
   "source": [
    "#transit_predictor('TIC: 322270620',period=12.958787,epoch=1666.870040+2457000.0,duration=2.01)"
   ]
  },
  {
   "cell_type": "code",
   "execution_count": 6,
   "metadata": {},
   "outputs": [],
   "source": [
    "#transit_predictor('TIC: 299798795',period=4.178295,epoch=1327.702808+2457000.0,duration=1.7)"
   ]
  },
  {
   "cell_type": "code",
   "execution_count": 4,
   "metadata": {},
   "outputs": [],
   "source": [
    "#transit_predictor('TIC: 387690507',period=6.388488,epoch=1470.200137+2457000.0,duration=2.51)"
   ]
  },
  {
   "cell_type": "code",
   "execution_count": 4,
   "metadata": {},
   "outputs": [],
   "source": [
    "#transit_predictor('TIC: 165551882',period=12.15828,epoch=1798.104217+2457000.0,duration=2.14)"
   ]
  },
  {
   "cell_type": "code",
   "execution_count": 4,
   "metadata": {},
   "outputs": [],
   "source": [
    "#transit_predictor('TIC: 447061717',period=24.246135,epoch=1563.888198+2457000.0,duration=3.26)"
   ]
  },
  {
   "cell_type": "code",
   "execution_count": 9,
   "metadata": {},
   "outputs": [],
   "source": [
    "#transit_predictor('TIC: 259168516',period=4.802445,epoch=1687.264487+2457000.0,duration=1.06)"
   ]
  },
  {
   "cell_type": "code",
   "execution_count": 4,
   "metadata": {},
   "outputs": [],
   "source": [
    "#transit_predictor('TIC: 318022259',period=6.222236,epoch=1844.381227+2457000.0,duration=2.26)"
   ]
  },
  {
   "cell_type": "code",
   "execution_count": 6,
   "metadata": {},
   "outputs": [],
   "source": [
    "#transit_predictor('LP 791-18d',period=2.753433,epoch=2458772.16226,duration=0.8875)"
   ]
  },
  {
   "cell_type": "code",
   "execution_count": 8,
   "metadata": {},
   "outputs": [],
   "source": [
    "#transit_predictor('TIC 233602827',period=9.046152,epoch=1688.77339+2457000.0,duration=1.77)"
   ]
  },
  {
   "cell_type": "code",
   "execution_count": 1,
   "metadata": {},
   "outputs": [],
   "source": [
    "#transit_predictor('TIC 230086768',period=8.857783,epoch=1797.127328+2457000.0,duration=2.75)"
   ]
  },
  {
   "cell_type": "code",
   "execution_count": 3,
   "metadata": {},
   "outputs": [],
   "source": [
    "#transit_predictor('TIC 306996324.02',period=8.246771,epoch=1571.415385+2457000.0,duration=2.42)"
   ]
  },
  {
   "cell_type": "code",
   "execution_count": 12,
   "metadata": {},
   "outputs": [],
   "source": [
    "#transit_predictor('TIC: 420112587',period=11.062666,epoch=1691.531496+2457000.0,duration=2.08)"
   ]
  },
  {
   "cell_type": "code",
   "execution_count": 20,
   "metadata": {},
   "outputs": [],
   "source": [
    "#transit_predictor('TIC: 166648874',period=15.145469,epoch=1909.546801+2457000.0,duration=2.58)"
   ]
  },
  {
   "cell_type": "code",
   "execution_count": 7,
   "metadata": {},
   "outputs": [],
   "source": [
    "#transit_predictor('TIC: 32497972',period=38.696290,epoch=1448.181557+2457000.0,duration=2.45)"
   ]
  },
  {
   "cell_type": "code",
   "execution_count": 32,
   "metadata": {},
   "outputs": [],
   "source": [
    "#transit_predictor('TIC: 408636441',period=37.696127,epoch=1745.467287+2457000.0,duration=3.54)"
   ]
  },
  {
   "cell_type": "code",
   "execution_count": 17,
   "metadata": {},
   "outputs": [],
   "source": [
    "#transit_predictor('TIC: 13684720',period=12.437607,epoch=1695.012224+2457000.0,duration=1.73)"
   ]
  },
  {
   "cell_type": "code",
   "execution_count": 7,
   "metadata": {},
   "outputs": [],
   "source": [
    "#transit_predictor('TIC: 119584412',period=21.284406,epoch=1903.544154+2457000.0,duration=2.77)"
   ]
  },
  {
   "cell_type": "code",
   "execution_count": 16,
   "metadata": {},
   "outputs": [],
   "source": [
    "#transit_predictor('TIC: 2760710',period=15.604000,epoch=1364.102069+2457000.0,duration=1.51)"
   ]
  },
  {
   "cell_type": "code",
   "execution_count": 27,
   "metadata": {},
   "outputs": [],
   "source": [
    "#transit_predictor('TIC: 220459976',period=32.332528,epoch=1361.663925+2457000.0,duration=3.46)"
   ]
  },
  {
   "cell_type": "code",
   "execution_count": 3,
   "metadata": {},
   "outputs": [],
   "source": [
    "#transit_predictor('TIC: 220459976',period=32.332528,epoch=1361.663925+2457000.0,duration=3.46)"
   ]
  },
  {
   "cell_type": "code",
   "execution_count": 4,
   "metadata": {},
   "outputs": [],
   "source": [
    "#transit_predictor('TIC: 420112589',period=11.062190,epoch=1691.52391+2457000.0,duration=1.63)"
   ]
  },
  {
   "cell_type": "code",
   "execution_count": 7,
   "metadata": {},
   "outputs": [],
   "source": [
    "#transit_predictor('TIC 271971130',period=19.287523,epoch=1327.551446+2457000.0,duration=2.07)"
   ]
  },
  {
   "cell_type": "code",
   "execution_count": 11,
   "metadata": {},
   "outputs": [],
   "source": [
    "#transit_predictor('TIC 153077621',period=18.082538,epoch=1414.220898+2457000.0,duration=2.28)"
   ]
  },
  {
   "cell_type": "code",
   "execution_count": 15,
   "metadata": {},
   "outputs": [],
   "source": [
    "#transit_predictor('TIC 343628284',period=8.113675,epoch=1713.333728+2457000.0,duration=2.35)"
   ]
  },
  {
   "cell_type": "code",
   "execution_count": 28,
   "metadata": {},
   "outputs": [],
   "source": [
    "#transit_predictor('TIC 365639282',period=10.871700,epoch=1472.412790+2457000.0,duration=2.94)"
   ]
  },
  {
   "cell_type": "code",
   "execution_count": 3,
   "metadata": {},
   "outputs": [],
   "source": [
    "#transit_predictor('TIC 312862941',period=0.901387,epoch=1791.146368+2457000.0,duration=0.76)"
   ]
  },
  {
   "cell_type": "code",
   "execution_count": 3,
   "metadata": {},
   "outputs": [],
   "source": [
    "#transit_predictor('TIC 259962054',period=51.953234,epoch=1327.729066+2457000.0,duration=6.3)"
   ]
  },
  {
   "cell_type": "code",
   "execution_count": 9,
   "metadata": {},
   "outputs": [],
   "source": [
    "#transit_predictor('TIC 441738827',period=8.148826,epoch=1745.404528+2457000.0,duration=1.63)"
   ]
  },
  {
   "cell_type": "code",
   "execution_count": 11,
   "metadata": {},
   "outputs": [],
   "source": [
    "#transit_predictor('TIC 142748283',period=3.119035,epoch=1684.832891+2457000.0,duration=1.27)"
   ]
  },
  {
   "cell_type": "code",
   "execution_count": 13,
   "metadata": {},
   "outputs": [],
   "source": [
    "#transit_predictor('TIC 142748283',period=6.387611,epoch=1687.539955+2457000.0,duration=1.25)"
   ]
  },
  {
   "cell_type": "code",
   "execution_count": 18,
   "metadata": {},
   "outputs": [],
   "source": [
    "#transit_predictor('TIC 389900760',period=5.798912,epoch=1987.219606+2457000.0,duration=1.0)"
   ]
  },
  {
   "cell_type": "code",
   "execution_count": 3,
   "metadata": {},
   "outputs": [],
   "source": [
    "#transit_predictor('TIC 900715901',period=5.798912,epoch=1987.219606+2457000.0,duration=1.0)"
   ]
  },
  {
   "cell_type": "code",
   "execution_count": 5,
   "metadata": {},
   "outputs": [
    {
     "name": "stdout",
     "output_type": "stream",
     "text": [
      "2020-08-11 01:35:29.870\n",
      "2020-08-11 06:25:00.255\n",
      "\n",
      "2020-08-18 22:01:57.268\n",
      "2020-08-19 02:51:27.653\n",
      "\n",
      "2020-08-26 18:28:24.667\n",
      "2020-08-26 23:17:55.052\n",
      "\n",
      "2020-09-03 14:54:52.065\n",
      "2020-09-03 19:44:22.450\n",
      "\n",
      "2020-09-11 11:21:19.463\n",
      "2020-09-11 16:10:49.849\n",
      "\n",
      "2020-09-19 07:47:46.862\n",
      "2020-09-19 12:37:17.247\n",
      "\n",
      "2020-09-27 04:14:14.260\n",
      "2020-09-27 09:03:44.645\n",
      "\n",
      "2020-10-05 00:40:41.659\n",
      "2020-10-05 05:30:12.044\n",
      "\n",
      "2020-10-12 21:07:09.057\n",
      "2020-10-13 01:56:39.442\n",
      "\n",
      "2020-10-20 17:33:36.455\n",
      "2020-10-20 22:23:06.841\n",
      "\n",
      "2020-10-28 14:00:03.854\n",
      "2020-10-28 18:49:34.239\n",
      "\n",
      "2020-11-05 10:26:31.252\n",
      "2020-11-05 15:16:01.637\n",
      "\n",
      "2020-11-13 06:52:58.651\n",
      "2020-11-13 11:42:29.036\n",
      "\n",
      "2020-11-21 03:19:26.049\n",
      "2020-11-21 08:08:56.434\n",
      "\n",
      "2020-11-28 23:45:53.447\n",
      "2020-11-29 04:35:23.833\n",
      "\n",
      "2020-12-06 20:12:20.846\n",
      "2020-12-07 01:01:51.231\n",
      "\n",
      "2020-12-14 16:38:48.244\n",
      "2020-12-14 21:28:18.629\n",
      "\n",
      "2020-12-22 13:05:15.643\n",
      "2020-12-22 17:54:46.028\n",
      "\n",
      "2020-12-30 09:31:43.041\n",
      "2020-12-30 14:21:13.426\n",
      "\n",
      "2021-01-07 05:58:10.439\n",
      "2021-01-07 10:47:40.825\n",
      "\n",
      "2021-01-15 02:24:37.838\n",
      "2021-01-15 07:14:08.223\n",
      "\n",
      "2021-01-22 22:51:05.236\n",
      "2021-01-23 03:40:35.621\n",
      "\n",
      "2021-01-30 19:17:32.635\n",
      "2021-01-31 00:07:03.020\n",
      "\n",
      "2021-02-07 15:44:00.033\n",
      "2021-02-07 20:33:30.418\n",
      "\n",
      "2021-02-15 12:10:27.431\n",
      "2021-02-15 16:59:57.817\n",
      "\n",
      "2021-02-23 08:36:54.830\n",
      "2021-02-23 13:26:25.215\n",
      "\n",
      "2021-03-03 05:03:22.228\n",
      "2021-03-03 09:52:52.613\n",
      "\n",
      "2021-03-11 01:29:49.627\n",
      "2021-03-11 06:19:20.012\n",
      "\n",
      "2021-03-18 21:56:17.025\n",
      "2021-03-19 02:45:47.410\n",
      "\n",
      "2021-03-26 18:22:44.423\n",
      "2021-03-26 23:12:14.809\n",
      "\n",
      "2021-04-03 14:49:11.822\n",
      "2021-04-03 19:38:42.207\n",
      "\n",
      "2021-04-11 11:15:39.220\n",
      "2021-04-11 16:05:09.605\n",
      "\n",
      "2021-04-19 07:42:06.619\n",
      "2021-04-19 12:31:37.004\n",
      "\n",
      "2021-04-27 04:08:34.017\n",
      "2021-04-27 08:58:04.402\n",
      "\n",
      "2021-05-05 00:35:01.415\n",
      "2021-05-05 05:24:31.801\n",
      "\n",
      "2021-05-12 21:01:28.814\n",
      "2021-05-13 01:50:59.199\n",
      "\n",
      "2021-05-20 17:27:56.212\n",
      "2021-05-20 22:17:26.597\n",
      "\n",
      "2021-05-28 13:54:23.611\n",
      "2021-05-28 18:43:53.996\n",
      "\n",
      "2021-06-05 10:20:51.009\n",
      "2021-06-05 15:10:21.394\n",
      "\n",
      "2021-06-13 06:47:18.407\n",
      "2021-06-13 11:36:48.793\n",
      "\n"
     ]
    }
   ],
   "source": [
    "transit_predictor('TIC 336128819',period=7.851706,epoch=2017.704899+2457000.0,duration=1.608369)"
   ]
  },
  {
   "cell_type": "code",
   "execution_count": null,
   "metadata": {},
   "outputs": [],
   "source": []
  }
 ],
 "metadata": {
  "kernelspec": {
   "display_name": "Python 3",
   "language": "python",
   "name": "python3"
  },
  "language_info": {
   "codemirror_mode": {
    "name": "ipython",
    "version": 3
   },
   "file_extension": ".py",
   "mimetype": "text/x-python",
   "name": "python",
   "nbconvert_exporter": "python",
   "pygments_lexer": "ipython3",
   "version": "3.7.4"
  }
 },
 "nbformat": 4,
 "nbformat_minor": 4
}
