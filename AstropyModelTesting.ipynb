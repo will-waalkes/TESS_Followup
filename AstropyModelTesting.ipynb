{
 "cells": [
  {
   "cell_type": "code",
   "execution_count": 3,
   "metadata": {},
   "outputs": [],
   "source": [
    "import numpy as np\n",
    "import matplotlib.pyplot as plt\n",
    "from astropy.modeling.models import custom_model\n",
    "from astropy.modeling.fitting import LevMarLSQFitter\n",
    "from astropy.modeling.fitting import (_validate_model,\n",
    "                                      _fitter_to_model_params,\n",
    "                                      _model_to_fit_params, Fitter,\n",
    "                                      _convert_input)\n",
    "from astropy.modeling.optimizers import Simplex\n",
    "import batman\n",
    "from astropy.modeling import models, fitting"
   ]
  },
  {
   "cell_type": "markdown",
   "metadata": {},
   "source": [
    "http://docs.astropy.org/en/stable/modeling/new.html\n",
    "\n",
    "http://docs.astropy.org/en/stable/modeling/new.html#using-a-custom-statistic-function\n",
    "\n",
    "https://en.wikipedia.org/wiki/Linear_least_squares_(mathematics)"
   ]
  },
  {
   "cell_type": "code",
   "execution_count": 6,
   "metadata": {},
   "outputs": [],
   "source": [
    "#First, create the user-defined statistic\n",
    "\n",
    "def chi_line(measured_vals, updated_model, x_sigma, y_sigma, x):\n",
    "    \n",
    "    \"\"\"\n",
    "    Chi^2 statistic for fitting a straight line with uncertainties in x and\n",
    "    y.\n",
    "\n",
    "    Parameters\n",
    "    ----------\n",
    "    measured_vals : array\n",
    "    updated_model : `~astropy.modeling.ParametricModel`\n",
    "        model with parameters set by the current iteration of the optimizer\n",
    "    x_sigma : array\n",
    "        uncertainties in x\n",
    "    y_sigma : array\n",
    "        uncertainties in y\n",
    "    \"\"\"\n",
    "    \n",
    "    model_vals = updated_model(x)\n",
    "    if x_sigma is None and y_sigma is None:\n",
    "        return np.sum((model_vals - measured_vals) ** 2)\n",
    "    elif x_sigma is not None and y_sigma is not None:\n",
    "        weights = 1 / (y_sigma ** 2 + updated_model.parameters[1] ** 2 *\n",
    "                       x_sigma ** 2)\n",
    "        return np.sum((weights * (model_vals - measured_vals)) ** 2)\n",
    "    else:\n",
    "        if x_sigma is not None:\n",
    "            weights = 1 / x_sigma ** 2\n",
    "        else:\n",
    "            weights = 1 / y_sigma ** 2\n",
    "        return np.sum((weights * (model_vals - measured_vals)) ** 2)"
   ]
  },
  {
   "cell_type": "code",
   "execution_count": 7,
   "metadata": {},
   "outputs": [],
   "source": [
    "#Next, define the fitting optimizer\n",
    "\n",
    "class LineFitter(Fitter):\n",
    "    \"\"\"\n",
    "    Fit a straight line with uncertainties in both variables\n",
    "\n",
    "    Parameters\n",
    "    ----------\n",
    "    optimizer : class or callable\n",
    "        one of the classes in optimizers.py (default: Simplex)\n",
    "    \"\"\"\n",
    "\n",
    "    def __init__(self, optimizer=Simplex):\n",
    "        self.statistic = chi_line\n",
    "        super().__init__(optimizer, statistic=self.statistic)"
   ]
  },
  {
   "cell_type": "code",
   "execution_count": 20,
   "metadata": {},
   "outputs": [],
   "source": [
    "def __call__(self, model, x, y, x_sigma=None, y_sigma=None, **kwargs):\n",
    "    \"\"\"\n",
    "    Fit data to this model.\n",
    "\n",
    "    Parameters\n",
    "    ----------\n",
    "    model : `~astropy.modeling.core.ParametricModel`\n",
    "        model to fit to x, y\n",
    "    x : array\n",
    "        input coordinates\n",
    "    y : array\n",
    "        input coordinates\n",
    "    x_sigma : array\n",
    "        uncertainties in x\n",
    "    y_sigma : array\n",
    "        uncertainties in y\n",
    "    kwargs : dict\n",
    "        optional keyword arguments to be passed to the optimizer\n",
    "\n",
    "    Returns\n",
    "    ------\n",
    "    model_copy : `~astropy.modeling.core.ParametricModel`\n",
    "        a copy of the input model with parameters set by the fitter\n",
    "\n",
    "    \"\"\"\n",
    "    model_copy = _validate_model(model,\n",
    "                                 self._opt_method.supported_constraints)\n",
    "\n",
    "    farg = _convert_input(x, y)\n",
    "    farg = (model_copy, x_sigma, y_sigma) + farg\n",
    "    p0, _ = _model_to_fit_params(model_copy)\n",
    "\n",
    "    fitparams, self.fit_info = self._opt_method(\n",
    "        self.objective_function, p0, farg, **kwargs)\n",
    "    _fitter_to_model_params(model_copy, fitparams)\n",
    "\n",
    "    return model_copy"
   ]
  },
  {
   "cell_type": "code",
   "execution_count": 21,
   "metadata": {},
   "outputs": [],
   "source": [
    "def BATMAN_MODEL(Rp, Baseline, t = None):\n",
    "    #Next we create a TransitParams object to store the physical parameters describing the transit:\n",
    "\n",
    "    params = batman.TransitParams()\n",
    "    params.t0 = 0.                       #time of inferior conjunction\n",
    "    params.per = 39.09432                #period in hours\n",
    "    params.rp = Rp                       #planet radius (in units of stellar radii)\n",
    "    params.a = 16.                       #semi-major axis (in units of stellar radii)\n",
    "    params.inc = 90.                     #orbital inclination (in degrees)\n",
    "    params.ecc = 0.                      #eccentricity\n",
    "    params.w = 90.                       #longitude of periastron (in degrees)\n",
    "    params.u = [0.1956, 0.3700]          #limb darkening coefficients [u1, u2]\n",
    "    params.limb_dark = \"quadratic\"       #limb darkening model\n",
    "        \n",
    "    m = batman.TransitModel(params, t)    #initializes model\n",
    "    \n",
    "    flux = m.light_curve(params)*Baseline        #calculates light curve\n",
    "    return flux"
   ]
  },
  {
   "cell_type": "code",
   "execution_count": 22,
   "metadata": {},
   "outputs": [],
   "source": [
    "x = np.linspace(0,100,101)\n",
    "y = BATMAN_MODEL(Rp=0.02,Baseline=1,t=x)"
   ]
  },
  {
   "cell_type": "code",
   "execution_count": 16,
   "metadata": {},
   "outputs": [
    {
     "ename": "TypeError",
     "evalue": "__call__() missing 1 required positional argument: 'self'",
     "output_type": "error",
     "traceback": [
      "\u001b[0;31m---------------------------------------------------------------------------\u001b[0m",
      "\u001b[0;31mTypeError\u001b[0m                                 Traceback (most recent call last)",
      "\u001b[0;32m<ipython-input-16-9f35c49a4534>\u001b[0m in \u001b[0;36m<module>\u001b[0;34m()\u001b[0m\n\u001b[0;32m----> 1\u001b[0;31m \u001b[0m__call__\u001b[0m\u001b[0;34m(\u001b[0m\u001b[0mmodel\u001b[0m\u001b[0;34m=\u001b[0m\u001b[0mBATMAN_MODEL\u001b[0m\u001b[0;34m,\u001b[0m\u001b[0mx\u001b[0m\u001b[0;34m=\u001b[0m\u001b[0mx\u001b[0m\u001b[0;34m,\u001b[0m\u001b[0my\u001b[0m\u001b[0;34m=\u001b[0m\u001b[0my\u001b[0m\u001b[0;34m)\u001b[0m\u001b[0;34m\u001b[0m\u001b[0m\n\u001b[0m",
      "\u001b[0;31mTypeError\u001b[0m: __call__() missing 1 required positional argument: 'self'"
     ]
    }
   ],
   "source": [
    "#__call__(self,model=BATMAN_MODEL,x=x,y=y)"
   ]
  },
  {
   "cell_type": "code",
   "execution_count": 23,
   "metadata": {},
   "outputs": [
    {
     "ename": "TypeError",
     "evalue": "Can't instantiate abstract class LineFitter with abstract methods __call__",
     "output_type": "error",
     "traceback": [
      "\u001b[0;31m---------------------------------------------------------------------------\u001b[0m",
      "\u001b[0;31mTypeError\u001b[0m                                 Traceback (most recent call last)",
      "\u001b[0;32m<ipython-input-23-6c276906bee8>\u001b[0m in \u001b[0;36m<module>\u001b[0;34m()\u001b[0m\n\u001b[0;32m----> 1\u001b[0;31m \u001b[0ms\u001b[0m \u001b[0;34m=\u001b[0m \u001b[0mLineFitter\u001b[0m\u001b[0;34m(\u001b[0m\u001b[0;34m)\u001b[0m\u001b[0;34m\u001b[0m\u001b[0m\n\u001b[0m\u001b[1;32m      2\u001b[0m \u001b[0ms\u001b[0m\u001b[0;34m.\u001b[0m\u001b[0m__init__\u001b[0m\u001b[0;34m(\u001b[0m\u001b[0;34m)\u001b[0m\u001b[0;34m\u001b[0m\u001b[0m\n",
      "\u001b[0;31mTypeError\u001b[0m: Can't instantiate abstract class LineFitter with abstract methods __call__"
     ]
    }
   ],
   "source": [
    "s = LineFitter()\n",
    "s.__init__()"
   ]
  },
  {
   "cell_type": "code",
   "execution_count": null,
   "metadata": {},
   "outputs": [],
   "source": []
  }
 ],
 "metadata": {
  "kernelspec": {
   "display_name": "Python 3",
   "language": "python",
   "name": "python3"
  },
  "language_info": {
   "codemirror_mode": {
    "name": "ipython",
    "version": 3
   },
   "file_extension": ".py",
   "mimetype": "text/x-python",
   "name": "python",
   "nbconvert_exporter": "python",
   "pygments_lexer": "ipython3",
   "version": "3.5.4"
  }
 },
 "nbformat": 4,
 "nbformat_minor": 2
}
