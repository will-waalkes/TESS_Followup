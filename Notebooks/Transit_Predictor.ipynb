{
 "cells": [
  {
   "cell_type": "code",
   "execution_count": 1,
   "metadata": {},
   "outputs": [],
   "source": [
    "import numpy as np\n",
    "import matplotlib.pyplot as plt\n",
    "from astropy.time import Time\n",
    "from astropy import coordinates as coord, units as u"
   ]
  },
  {
   "cell_type": "code",
   "execution_count": 25,
   "metadata": {},
   "outputs": [],
   "source": [
    "def transit_predictor(planet,period,epoch,duration,Range=300,plot=True):\n",
    "    \n",
    "    #duration in hr\n",
    "    \n",
    "    dur = duration/(24.0)\n",
    "    \n",
    "    t = np.linspace(0,Range,Range+1)\n",
    "    times = epoch + period*t\n",
    "    \n",
    "    t = Time(times, format='jd')\n",
    "    now = Time.now().jd\n",
    "    #start = t - (0.5*duration*u.minute + 60*u.minute)\n",
    "    #end = t + (0.5*duration*u.minute + 60*u.minute)\n",
    "    i = (now - epoch)/period\n",
    "    i = int(i)\n",
    "    \n",
    "    #UTC = t[i:].isot\n",
    "    transitsicareabout = t[i:(i+35)]\n",
    "    for onetransitcenter in transitsicareabout:\n",
    "        \n",
    "        start = onetransitcenter - (0.5*duration*u.hour + duration*u.hour)\n",
    "        end = onetransitcenter + (0.5*duration*u.hour + duration*u.hour)\n",
    "        \n",
    "        print(start.iso)\n",
    "        print(end.iso)\n",
    "        print(\"\")\n",
    "        \n",
    "    #print(UTC)\n",
    "    #return UTC"
   ]
  },
  {
   "cell_type": "code",
   "execution_count": 18,
   "metadata": {},
   "outputs": [],
   "source": [
    "#transit_predictor('TIC: 120916706',period=0.557,epoch=1386.1723+2457000.0,duration=0.853)"
   ]
  },
  {
   "cell_type": "code",
   "execution_count": 51,
   "metadata": {},
   "outputs": [],
   "source": [
    "#transit_predictor('TIC: 259377017-03',period=11.37913,epoch= 1389.6787 +2457000.0,duration=2.14)"
   ]
  },
  {
   "cell_type": "code",
   "execution_count": 32,
   "metadata": {},
   "outputs": [],
   "source": [
    "#transit_predictor('TIC: 231702397',period=5.07768,epoch=1329.1215+2457000.0,duration=1.16)"
   ]
  },
  {
   "cell_type": "code",
   "execution_count": 12,
   "metadata": {},
   "outputs": [],
   "source": [
    "#transit_predictor('TIC: 272086159',period=16.15558,epoch=1363.0437+2457000.0,duration=91.2/60.0)"
   ]
  },
  {
   "cell_type": "code",
   "execution_count": 18,
   "metadata": {},
   "outputs": [],
   "source": [
    "#transit_predictor('TIC: 262530407',period=2.85305,epoch=1356.1531+2457000.0,duration=75/60.0)"
   ]
  },
  {
   "cell_type": "code",
   "execution_count": 61,
   "metadata": {},
   "outputs": [],
   "source": [
    "#transit_predictor('TIC: 307210830',period=2.25301,epoch=1354.9062+2457000.0,duration=61.2/60.0)"
   ]
  },
  {
   "cell_type": "code",
   "execution_count": 45,
   "metadata": {},
   "outputs": [],
   "source": [
    "#transit_predictor('TIC: 153065527',period=13.169,epoch=1388.573+2457000.0,duration=2.2)"
   ]
  },
  {
   "cell_type": "code",
   "execution_count": 47,
   "metadata": {},
   "outputs": [],
   "source": [
    "#transit_predictor('TIC: 415969908',period=11.666,epoch=1365.2631+2457000.0,\n",
    "#                  duration=2.01)"
   ]
  },
  {
   "cell_type": "code",
   "execution_count": 13,
   "metadata": {},
   "outputs": [],
   "source": [
    "#transit_predictor('TIC: 305048087',period=5.434,epoch=1355.2498+2457000.0,\n",
    "#                  duration=1.17)"
   ]
  },
  {
   "cell_type": "code",
   "execution_count": 4,
   "metadata": {},
   "outputs": [],
   "source": [
    "#transit_predictor('TIC: 12421862',period=20.427,epoch=1356.3754+2457000.0,\n",
    "#                  duration=2.18)"
   ]
  },
  {
   "cell_type": "code",
   "execution_count": 52,
   "metadata": {},
   "outputs": [],
   "source": [
    "#transit_predictor('TIC: 259962054',period=51.953,epoch=1327.7291+2457000.0,\n",
    "#                  duration=6.32)"
   ]
  },
  {
   "cell_type": "code",
   "execution_count": 60,
   "metadata": {},
   "outputs": [],
   "source": [
    "#transit_predictor('TIC: 44745077',period=1.8756,epoch=1411.70271+2457000.0,\n",
    "#                  duration=0.989)"
   ]
  },
  {
   "cell_type": "code",
   "execution_count": 5,
   "metadata": {},
   "outputs": [],
   "source": [
    "#transit_predictor('TIC: 77951245',period=10.6885,epoch=1443.1827+2457000.0,\n",
    "#                  duration=2.465)"
   ]
  },
  {
   "cell_type": "code",
   "execution_count": 5,
   "metadata": {},
   "outputs": [],
   "source": [
    "#transit_predictor('TIC: 44647437',period=3.3532,epoch=1411.8458+2457000.0,\n",
    "#                  duration=1.959)"
   ]
  },
  {
   "cell_type": "code",
   "execution_count": 9,
   "metadata": {},
   "outputs": [],
   "source": [
    "#transit_predictor('TIC: 153077621',period=18.082538,epoch=1414.220898+2457000.0,\n",
    "#                  duration=2.283672)"
   ]
  },
  {
   "cell_type": "code",
   "execution_count": 11,
   "metadata": {},
   "outputs": [],
   "source": [
    "#transit_predictor('TIC: 2760710',period=15.604,epoch=1364.102069+2457000.0,\n",
    "#                  duration=1.51)"
   ]
  },
  {
   "cell_type": "code",
   "execution_count": 15,
   "metadata": {},
   "outputs": [],
   "source": [
    "#transit_predictor('TIC: 89256802',period=1.176044,epoch=1411.56089+2457000.0,\n",
    "#                  duration=0.982435)"
   ]
  },
  {
   "cell_type": "code",
   "execution_count": 17,
   "metadata": {},
   "outputs": [],
   "source": [
    "#transit_predictor('TIC: 307210830.01',period=3.690613,epoch=1356.2038+2457000.0,duration=1.267582)"
   ]
  },
  {
   "cell_type": "code",
   "execution_count": 26,
   "metadata": {},
   "outputs": [],
   "source": [
    "#transit_predictor('TIC: 398733009',period=0.818498,epoch=1411.561846+2457000.0,duration=0.944231)"
   ]
  },
  {
   "cell_type": "code",
   "execution_count": 28,
   "metadata": {},
   "outputs": [],
   "source": [
    "#transit_predictor('TIC: 9804616',period=0.516835,epoch=1411.065871+2457000.0,duration=0.936413)"
   ]
  },
  {
   "cell_type": "code",
   "execution_count": 30,
   "metadata": {},
   "outputs": [],
   "source": [
    "#transit_predictor('TIC: 70797900',period=31.579900,epoch=1176.364160+2457000.0,duration=1.8810)"
   ]
  },
  {
   "cell_type": "code",
   "execution_count": null,
   "metadata": {},
   "outputs": [],
   "source": []
  }
 ],
 "metadata": {
  "kernelspec": {
   "display_name": "Python 3",
   "language": "python",
   "name": "python3"
  },
  "language_info": {
   "codemirror_mode": {
    "name": "ipython",
    "version": 3
   },
   "file_extension": ".py",
   "mimetype": "text/x-python",
   "name": "python",
   "nbconvert_exporter": "python",
   "pygments_lexer": "ipython3",
   "version": "3.5.4"
  }
 },
 "nbformat": 4,
 "nbformat_minor": 2
}
