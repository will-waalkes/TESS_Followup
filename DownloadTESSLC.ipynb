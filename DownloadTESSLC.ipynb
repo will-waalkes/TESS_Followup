{
 "cells": [
  {
   "cell_type": "code",
   "execution_count": 1,
   "metadata": {},
   "outputs": [],
   "source": [
    "%matplotlib inline\n",
    "import lightkurve as lk\n",
    "import pandas\n",
    "import numpy as np\n",
    "import matplotlib.pyplot as plt\n",
    "from astropy.io import ascii\n",
    "from astropy.table import Table, Column\n",
    "import lightkurve\n",
    "import emcee\n",
    "from lightkurve.lightcurve import LightCurve"
   ]
  },
  {
   "cell_type": "code",
   "execution_count": 4,
   "metadata": {},
   "outputs": [
    {
     "name": "stderr",
     "output_type": "stream",
     "text": [
      "Warning: 31% (6168/19692) of the cadences will be ignored due to the quality mask (quality_bitmask=175).\n"
     ]
    },
    {
     "data": {
      "text/plain": [
       "LightCurveFileCollection of 5 objects:\n",
       "\tTIC 259962054 (5 TessLightCurveFiles) Sectors: 1,2,3,27,27"
      ]
     },
     "execution_count": 4,
     "metadata": {},
     "output_type": "execute_result"
    }
   ],
   "source": [
    "tic_id = '259962054'\n",
    "lcf = lk.search_lightcurvefile('TIC {}'.format(int(tic_id))).download_all()\n",
    "lcf"
   ]
  },
  {
   "cell_type": "code",
   "execution_count": null,
   "metadata": {},
   "outputs": [],
   "source": []
  },
  {
   "cell_type": "code",
   "execution_count": 5,
   "metadata": {},
   "outputs": [
    {
     "ename": "NameError",
     "evalue": "name 'Epoch' is not defined",
     "output_type": "error",
     "traceback": [
      "\u001b[1;31m---------------------------------------------------------------------------\u001b[0m",
      "\u001b[1;31mNameError\u001b[0m                                 Traceback (most recent call last)",
      "\u001b[1;32m<ipython-input-5-ba2d29e2a133>\u001b[0m in \u001b[0;36m<module>\u001b[1;34m\u001b[0m\n\u001b[0;32m      7\u001b[0m \u001b[1;31m#                    A=planet_a,LD=[0.31,0.32],t = TLC.time)\u001b[0m\u001b[1;33m\u001b[0m\u001b[1;33m\u001b[0m\u001b[1;33m\u001b[0m\u001b[0m\n\u001b[0;32m      8\u001b[0m \u001b[1;33m\u001b[0m\u001b[0m\n\u001b[1;32m----> 9\u001b[1;33m \u001b[0mingress\u001b[0m \u001b[1;33m=\u001b[0m \u001b[1;33m(\u001b[0m\u001b[0mEpoch\u001b[0m\u001b[1;33m+\u001b[0m\u001b[0mn\u001b[0m\u001b[1;33m*\u001b[0m\u001b[0mplanet_period\u001b[0m\u001b[1;33m)\u001b[0m\u001b[1;33m-\u001b[0m\u001b[1;33m(\u001b[0m\u001b[0mplanet_duration\u001b[0m\u001b[1;33m/\u001b[0m\u001b[1;36m2\u001b[0m\u001b[1;33m)\u001b[0m\u001b[1;33m/\u001b[0m\u001b[1;36m24\u001b[0m\u001b[1;33m\u001b[0m\u001b[1;33m\u001b[0m\u001b[0m\n\u001b[0m\u001b[0;32m     10\u001b[0m \u001b[0megress\u001b[0m \u001b[1;33m=\u001b[0m \u001b[1;33m(\u001b[0m\u001b[0mEpoch\u001b[0m\u001b[1;33m+\u001b[0m\u001b[0mn\u001b[0m\u001b[1;33m*\u001b[0m\u001b[0mplanet_period\u001b[0m\u001b[1;33m)\u001b[0m\u001b[1;33m+\u001b[0m\u001b[1;33m(\u001b[0m\u001b[0mplanet_duration\u001b[0m\u001b[1;33m/\u001b[0m\u001b[1;36m2\u001b[0m\u001b[1;33m)\u001b[0m\u001b[1;33m/\u001b[0m\u001b[1;36m24\u001b[0m\u001b[1;33m\u001b[0m\u001b[1;33m\u001b[0m\u001b[0m\n\u001b[0;32m     11\u001b[0m \u001b[1;33m\u001b[0m\u001b[0m\n",
      "\u001b[1;31mNameError\u001b[0m: name 'Epoch' is not defined"
     ]
    },
    {
     "data": {
      "image/png": "[encoded data removed]",
      "text/plain": [
       "<Figure size 792x648 with 2 Axes>"
      ]
     },
     "metadata": {
      "needs_background": "light"
     },
     "output_type": "display_data"
    }
   ],
   "source": [
    "TLC = lcf[2].PDCSAP_FLUX.remove_outliers(sigma=10).normalize()\n",
    "n = 2\n",
    "\n",
    "fig, (ax0,ax1) = plt.subplots(2,1,figsize=(11,9))\n",
    "\n",
    "#init_model = BATMAN(planet_period,planet_radius,t0=Epoch,inc=planet_i,\n",
    "#                    A=planet_a,LD=[0.31,0.32],t = TLC.time)\n",
    "\n",
    "ingress = (Epoch+n*planet_period)-(planet_duration/2)/24\n",
    "egress = (Epoch+n*planet_period)+(planet_duration/2)/24\n",
    "\n",
    "ax0.scatter(TLC.time, TLC.flux, alpha=0.1,rasterized=True)\n",
    "ax0.axvspan(ingress, egress, alpha=0.5, color='pink')\n",
    "\n",
    "ax0.set_ylabel('Normalized Flux')\n",
    "ax0.set_ylim(0.98,1.02)\n",
    "\n",
    "\n",
    "ax1.scatter(TLC.bin(binsize=5).time, TLC.bin(binsize=5).flux, alpha=0.2)\n",
    "ax1.axvspan(ingress, egress, alpha=0.5, color='pink',zorder=-2)\n",
    "#ax1.plot(TLC.time, init_model, color='k',zorder=-1)\n",
    "\n",
    "ax1.set_xlim(ingress-0.5, egress+0.5)\n",
    "ax1.set_ylim(0.99,1.01)\n",
    "ax1.set_ylabel('Normalized Flux')\n",
    "ax1.set_xlabel('BJD TDB')\n",
    "\n",
    "#plt.savefig('Figs/TOI_203_Third_sector.pdf')\n",
    "plt.show()"
   ]
  },
  {
   "cell_type": "code",
   "execution_count": null,
   "metadata": {},
   "outputs": [],
   "source": []
  }
 ],
 "metadata": {
  "kernelspec": {
   "display_name": "Python 3",
   "language": "python",
   "name": "python3"
  },
  "language_info": {
   "codemirror_mode": {
    "name": "ipython",
    "version": 3
   },
   "file_extension": ".py",
   "mimetype": "text/x-python",
   "name": "python",
   "nbconvert_exporter": "python",
   "pygments_lexer": "ipython3",
   "version": "3.8.3"
  }
 },
 "nbformat": 4,
 "nbformat_minor": 4
}
