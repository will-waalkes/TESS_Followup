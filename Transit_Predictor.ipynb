{
 "cells": [
  {
   "cell_type": "code",
   "execution_count": 2,
   "metadata": {},
   "outputs": [],
   "source": [
    "import numpy as np\n",
    "import matplotlib.pyplot as plt\n",
    "from astropy.time import Time\n",
    "from astropy import coordinates as coord, units as u"
   ]
  },
  {
   "cell_type": "code",
<<<<<<< HEAD
   "execution_count": 2,
=======
   "execution_count": 3,
>>>>>>> de54d5a532105a1e2ee84b544043359bb5c7c6c9
   "metadata": {},
   "outputs": [],
   "source": [
    "def transit_predictor(planet,period,epoch,duration,Range=600,plot=True):\n",
    "        \n",
    "    dur = duration/(24.0) #convert hrs to days\n",
    "    \n",
    "    t = np.linspace(0,Range,Range+1)\n",
    "    times = epoch + period*t\n",
    "    \n",
    "    t = Time(times, format='jd')\n",
    "    now = Time.now().jd\n",
    "    i = (now - epoch)/period\n",
    "    i = int(i)\n",
    "    \n",
    "    transitsicareabout = t[i:(i+60)]\n",
    "    for onetransitcenter in transitsicareabout:\n",
    "        \n",
    "        start = onetransitcenter - (1.5*duration*u.hour)\n",
    "        end = onetransitcenter + (1.5*duration*u.hour)\n",
    "        \n",
    "        print(start.iso)\n",
    "        print(end.iso)\n",
    "        print(\"\")"
   ]
  },
  {
   "cell_type": "code",
<<<<<<< HEAD
   "execution_count": null,
   "metadata": {},
   "outputs": [],
   "source": [
    "transit_predictor('TIC 44313455',period=9.3017370,epoch=2014.833131+2457000.0,duration=2.2)"
=======
   "execution_count": 10,
   "metadata": {},
   "outputs": [
    {
     "name": "stdout",
     "output_type": "stream",
     "text": [
      "2020-10-16 21:39:47.923\n",
      "2020-10-17 05:45:47.923\n",
      "\n",
      "2020-10-18 13:44:32.899\n",
      "2020-10-18 21:50:32.899\n",
      "\n",
      "2020-10-20 05:49:17.875\n",
      "2020-10-20 13:55:17.875\n",
      "\n",
      "2020-10-21 21:54:02.851\n",
      "2020-10-22 06:00:02.851\n",
      "\n",
      "2020-10-23 13:58:47.827\n",
      "2020-10-23 22:04:47.827\n",
      "\n",
      "2020-10-25 06:03:32.803\n",
      "2020-10-25 14:09:32.803\n",
      "\n",
      "2020-10-26 22:08:17.779\n",
      "2020-10-27 06:14:17.779\n",
      "\n",
      "2020-10-28 14:13:02.755\n",
      "2020-10-28 22:19:02.755\n",
      "\n",
      "2020-10-30 06:17:47.731\n",
      "2020-10-30 14:23:47.731\n",
      "\n",
      "2020-10-31 22:22:32.707\n",
      "2020-11-01 06:28:32.707\n",
      "\n",
      "2020-11-02 14:27:17.683\n",
      "2020-11-02 22:33:17.683\n",
      "\n",
      "2020-11-04 06:32:02.659\n",
      "2020-11-04 14:38:02.659\n",
      "\n",
      "2020-11-05 22:36:47.635\n",
      "2020-11-06 06:42:47.635\n",
      "\n",
      "2020-11-07 14:41:32.611\n",
      "2020-11-07 22:47:32.611\n",
      "\n",
      "2020-11-09 06:46:17.587\n",
      "2020-11-09 14:52:17.587\n",
      "\n",
      "2020-11-10 22:51:02.563\n",
      "2020-11-11 06:57:02.563\n",
      "\n",
      "2020-11-12 14:55:47.539\n",
      "2020-11-12 23:01:47.539\n",
      "\n",
      "2020-11-14 07:00:32.515\n",
      "2020-11-14 15:06:32.515\n",
      "\n",
      "2020-11-15 23:05:17.491\n",
      "2020-11-16 07:11:17.491\n",
      "\n",
      "2020-11-17 15:10:02.467\n",
      "2020-11-17 23:16:02.467\n",
      "\n",
      "2020-11-19 07:14:47.443\n",
      "2020-11-19 15:20:47.443\n",
      "\n",
      "2020-11-20 23:19:32.419\n",
      "2020-11-21 07:25:32.419\n",
      "\n",
      "2020-11-22 15:24:17.395\n",
      "2020-11-22 23:30:17.395\n",
      "\n",
      "2020-11-24 07:29:02.371\n",
      "2020-11-24 15:35:02.371\n",
      "\n",
      "2020-11-25 23:33:47.347\n",
      "2020-11-26 07:39:47.347\n",
      "\n",
      "2020-11-27 15:38:32.323\n",
      "2020-11-27 23:44:32.323\n",
      "\n",
      "2020-11-29 07:43:17.299\n",
      "2020-11-29 15:49:17.299\n",
      "\n",
      "2020-11-30 23:48:02.275\n",
      "2020-12-01 07:54:02.275\n",
      "\n",
      "2020-12-02 15:52:47.251\n",
      "2020-12-02 23:58:47.251\n",
      "\n",
      "2020-12-04 07:57:32.227\n",
      "2020-12-04 16:03:32.227\n",
      "\n",
      "2020-12-06 00:02:17.203\n",
      "2020-12-06 08:08:17.203\n",
      "\n",
      "2020-12-07 16:07:02.179\n",
      "2020-12-08 00:13:02.179\n",
      "\n",
      "2020-12-09 08:11:47.155\n",
      "2020-12-09 16:17:47.155\n",
      "\n",
      "2020-12-11 00:16:32.131\n",
      "2020-12-11 08:22:32.131\n",
      "\n",
      "2020-12-12 16:21:17.107\n",
      "2020-12-13 00:27:17.107\n",
      "\n",
      "2020-12-14 08:26:02.083\n",
      "2020-12-14 16:32:02.083\n",
      "\n",
      "2020-12-16 00:30:47.059\n",
      "2020-12-16 08:36:47.059\n",
      "\n",
      "2020-12-17 16:35:32.035\n",
      "2020-12-18 00:41:32.035\n",
      "\n",
      "2020-12-19 08:40:17.011\n",
      "2020-12-19 16:46:17.011\n",
      "\n",
      "2020-12-21 00:45:01.987\n",
      "2020-12-21 08:51:01.987\n",
      "\n",
      "2020-12-22 16:49:46.963\n",
      "2020-12-23 00:55:46.963\n",
      "\n",
      "2020-12-24 08:54:31.939\n",
      "2020-12-24 17:00:31.939\n",
      "\n",
      "2020-12-26 00:59:16.915\n",
      "2020-12-26 09:05:16.915\n",
      "\n",
      "2020-12-27 17:04:01.891\n",
      "2020-12-28 01:10:01.891\n",
      "\n",
      "2020-12-29 09:08:46.867\n",
      "2020-12-29 17:14:46.867\n",
      "\n",
      "2020-12-31 01:13:31.843\n",
      "2020-12-31 09:19:31.843\n",
      "\n",
      "2021-01-01 17:18:16.819\n",
      "2021-01-02 01:24:16.819\n",
      "\n",
      "2021-01-03 09:23:01.795\n",
      "2021-01-03 17:29:01.795\n",
      "\n",
      "2021-01-05 01:27:46.771\n",
      "2021-01-05 09:33:46.771\n",
      "\n",
      "2021-01-06 17:32:31.747\n",
      "2021-01-07 01:38:31.747\n",
      "\n",
      "2021-01-08 09:37:16.723\n",
      "2021-01-08 17:43:16.723\n",
      "\n",
      "2021-01-10 01:42:01.699\n",
      "2021-01-10 09:48:01.699\n",
      "\n",
      "2021-01-11 17:46:46.675\n",
      "2021-01-12 01:52:46.675\n",
      "\n",
      "2021-01-13 09:51:31.651\n",
      "2021-01-13 17:57:31.651\n",
      "\n",
      "2021-01-15 01:56:16.627\n",
      "2021-01-15 10:02:16.627\n",
      "\n",
      "2021-01-16 18:01:01.603\n",
      "2021-01-17 02:07:01.603\n",
      "\n",
      "2021-01-18 10:05:46.579\n",
      "2021-01-18 18:11:46.579\n",
      "\n",
      "2021-01-20 02:10:31.555\n",
      "2021-01-20 10:16:31.555\n",
      "\n",
      "2021-01-21 18:15:16.531\n",
      "2021-01-22 02:21:16.531\n",
      "\n",
      "2021-01-23 10:20:01.507\n",
      "2021-01-23 18:26:01.507\n",
      "\n"
     ]
    }
   ],
   "source": [
    "transit_predictor('TIC: 237751146',period=1.6699650,epoch=1469.915423+2457000.0,duration=2.7)"
>>>>>>> de54d5a532105a1e2ee84b544043359bb5c7c6c9
   ]
  },
  {
   "cell_type": "code",
<<<<<<< HEAD
   "execution_count": 8,
   "metadata": {},
   "outputs": [],
   "source": [
    "#transit_predictor('TIC 44313455',period=9.3017370,epoch=2014.833131+2457000.0,duration=2.2)"
=======
   "execution_count": 9,
   "metadata": {},
   "outputs": [],
   "source": [
    "#transit_predictor('TIC: 70899085',period=4.0520300,epoch=1438.385520+2457000.0,duration=1.3)"
>>>>>>> de54d5a532105a1e2ee84b544043359bb5c7c6c9
   ]
  },
  {
   "cell_type": "code",
<<<<<<< HEAD
   "execution_count": 6,
   "metadata": {},
   "outputs": [],
   "source": [
    "#transit_predictor('TIC 329148988',period=27.2695220,epoch=1747.183178+2457000.0,duration=2.5)"
=======
   "execution_count": 7,
   "metadata": {},
   "outputs": [],
   "source": [
    "#transit_predictor('TIC: 329148988',period=27.2695220,epoch=1747.183178+2457000.0,duration=2.5)"
>>>>>>> de54d5a532105a1e2ee84b544043359bb5c7c6c9
   ]
  },
  {
   "cell_type": "code",
<<<<<<< HEAD
   "execution_count": 4,
   "metadata": {},
   "outputs": [],
   "source": [
    "#transit_predictor('TIC 8348911',period=2.3262140,epoch=1957.9271670+2457000.0,duration=1)"
=======
   "execution_count": 5,
   "metadata": {},
   "outputs": [],
   "source": [
    "#transit_predictor('TIC: 198485881',period=175.9445900,epoch=1691.275171+2457000.0,duration=3.65)"
>>>>>>> de54d5a532105a1e2ee84b544043359bb5c7c6c9
   ]
  },
  {
   "cell_type": "code",
   "execution_count": 30,
   "metadata": {},
   "outputs": [],
   "source": [
    "#transit_predictor('TIC 359357695',period=1.7270200,epoch=1600.171740+2457000.0,duration=1.4)"
   ]
  },
  {
   "cell_type": "code",
   "execution_count": 26,
   "metadata": {},
   "outputs": [],
   "source": [
    "#transit_predictor('TIC 900715901',period=3.1678960,epoch=1987.219606+2457000.0,duration=1.3)"
   ]
  },
  {
   "cell_type": "code",
   "execution_count": 23,
   "metadata": {},
   "outputs": [],
   "source": [
    "#transit_predictor('TIC 348755728',period=4.5059000,epoch=1517.809802+2457000.0,duration=2.0)"
   ]
  },
  {
   "cell_type": "code",
   "execution_count": 21,
   "metadata": {},
   "outputs": [],
   "source": [
    "#transit_predictor('TIC 232635922',period=5.9855680,epoch=1683.922079+2457000.0,duration=1.6)"
   ]
  },
  {
   "cell_type": "code",
   "execution_count": 17,
   "metadata": {},
   "outputs": [],
   "source": [
    "#transit_predictor('TIC 459837008',period=3.4949590,epoch=1816.154418+2457000.0,duration=.88)"
   ]
  },
  {
   "cell_type": "code",
   "execution_count": 15,
   "metadata": {},
   "outputs": [],
   "source": [
    "#transit_predictor('TIC 389900760',period=5.798912,epoch=1987.219606+2457000.0,duration=1.0)"
   ]
  },
  {
   "cell_type": "code",
   "execution_count": 13,
   "metadata": {},
   "outputs": [],
   "source": [
    "#transit_predictor('TIC 365639282',period=10.871700,epoch=1472.412790+2457000.0,duration=2.94)"
   ]
  },
  {
   "cell_type": "code",
   "execution_count": 11,
   "metadata": {},
   "outputs": [],
   "source": [
    "#transit_predictor('TIC 236387002',period=7.2008400,epoch=1958.678150+2457000.0,duration=1.87)"
   ]
  },
  {
   "cell_type": "code",
   "execution_count": 9,
   "metadata": {},
   "outputs": [],
   "source": [
    "#transit_predictor('TIC 296780789',period=13.5773630,epoch=1524.632662+2457000.0,duration=1.70)"
   ]
  },
  {
   "cell_type": "code",
   "execution_count": 7,
   "metadata": {},
   "outputs": [],
   "source": [
    "#transit_predictor('TIC 230086768',period=8.857783,epoch=1797.127328+2457000.0,duration=2.75)"
   ]
  },
  {
   "cell_type": "code",
   "execution_count": 5,
   "metadata": {},
   "outputs": [],
   "source": [
    "#transit_predictor('TIC: 166184426',period=16.3152000,epoch=1600.450920+2457000.0,duration=1.99)"
   ]
  },
  {
   "cell_type": "code",
   "execution_count": 4,
   "metadata": {},
   "outputs": [],
   "source": [
    "#transit_predictor('TIC: 290348382',period=6.44049,epoch=1658.78715+2457000.0,duration=1.85)"
   ]
  },
  {
   "cell_type": "code",
   "execution_count": 5,
   "metadata": {},
   "outputs": [],
   "source": [
    "#transit_predictor('TIC: 429358906',period=16.047916,epoch=1577.042852+2457000.0,duration=1.71)"
   ]
  },
  {
   "cell_type": "code",
   "execution_count": 90,
   "metadata": {},
   "outputs": [],
   "source": [
    "#transit_predictor('TIC: 467179528',period=10.895412,epoch=1691.004583+2457000.0,duration=2.06)"
   ]
  },
  {
   "cell_type": "code",
   "execution_count": 4,
   "metadata": {},
   "outputs": [],
   "source": [
    "#transit_predictor('TIC: 322270620',period=12.958787,epoch=1666.870040+2457000.0,duration=2.01)"
   ]
  },
  {
   "cell_type": "code",
   "execution_count": 6,
   "metadata": {},
   "outputs": [],
   "source": [
    "#transit_predictor('TIC: 299798795',period=4.178295,epoch=1327.702808+2457000.0,duration=1.7)"
   ]
  },
  {
   "cell_type": "code",
   "execution_count": 4,
   "metadata": {},
   "outputs": [],
   "source": [
    "#transit_predictor('TIC: 387690507',period=6.388488,epoch=1470.200137+2457000.0,duration=2.51)"
   ]
  },
  {
   "cell_type": "code",
   "execution_count": 4,
   "metadata": {},
   "outputs": [],
   "source": [
    "#transit_predictor('TIC: 165551882',period=12.15828,epoch=1798.104217+2457000.0,duration=2.14)"
   ]
  },
  {
   "cell_type": "code",
   "execution_count": 4,
   "metadata": {},
   "outputs": [],
   "source": [
    "#transit_predictor('TIC: 447061717',period=24.246135,epoch=1563.888198+2457000.0,duration=3.26)"
   ]
  },
  {
   "cell_type": "code",
   "execution_count": 9,
   "metadata": {},
   "outputs": [],
   "source": [
    "#transit_predictor('TIC: 259168516',period=4.802445,epoch=1687.264487+2457000.0,duration=1.06)"
   ]
  },
  {
   "cell_type": "code",
   "execution_count": 4,
   "metadata": {},
   "outputs": [],
   "source": [
    "#transit_predictor('TIC: 318022259',period=6.222236,epoch=1844.381227+2457000.0,duration=2.26)"
   ]
  },
  {
   "cell_type": "code",
   "execution_count": 6,
   "metadata": {},
   "outputs": [],
   "source": [
    "#transit_predictor('LP 791-18d',period=2.753433,epoch=2458772.16226,duration=0.8875)"
   ]
  },
  {
   "cell_type": "code",
   "execution_count": 8,
   "metadata": {},
   "outputs": [],
   "source": [
    "#transit_predictor('TIC 233602827',period=9.046152,epoch=1688.77339+2457000.0,duration=1.77)"
   ]
  },
  {
   "cell_type": "code",
   "execution_count": 3,
   "metadata": {},
   "outputs": [],
   "source": [
    "#transit_predictor('TIC 306996324.02',period=8.246771,epoch=1571.415385+2457000.0,duration=2.42)"
   ]
  },
  {
   "cell_type": "code",
   "execution_count": 12,
   "metadata": {},
   "outputs": [],
   "source": [
    "#transit_predictor('TIC: 420112587',period=11.062666,epoch=1691.531496+2457000.0,duration=2.08)"
   ]
  },
  {
   "cell_type": "code",
   "execution_count": 20,
   "metadata": {},
   "outputs": [],
   "source": [
    "#transit_predictor('TIC: 166648874',period=15.145469,epoch=1909.546801+2457000.0,duration=2.58)"
   ]
  },
  {
   "cell_type": "code",
   "execution_count": 7,
   "metadata": {},
   "outputs": [],
   "source": [
    "#transit_predictor('TIC: 32497972',period=38.696290,epoch=1448.181557+2457000.0,duration=2.45)"
   ]
  },
  {
   "cell_type": "code",
   "execution_count": 32,
   "metadata": {},
   "outputs": [],
   "source": [
    "#transit_predictor('TIC: 408636441',period=37.696127,epoch=1745.467287+2457000.0,duration=3.54)"
   ]
  },
  {
   "cell_type": "code",
   "execution_count": 17,
   "metadata": {},
   "outputs": [],
   "source": [
    "#transit_predictor('TIC: 13684720',period=12.437607,epoch=1695.012224+2457000.0,duration=1.73)"
   ]
  },
  {
   "cell_type": "code",
   "execution_count": 7,
   "metadata": {},
   "outputs": [],
   "source": [
    "#transit_predictor('TIC: 119584412',period=21.284406,epoch=1903.544154+2457000.0,duration=2.77)"
   ]
  },
  {
   "cell_type": "code",
   "execution_count": 16,
   "metadata": {},
   "outputs": [],
   "source": [
    "#transit_predictor('TIC: 2760710',period=15.604000,epoch=1364.102069+2457000.0,duration=1.51)"
   ]
  },
  {
   "cell_type": "code",
   "execution_count": 27,
   "metadata": {},
   "outputs": [],
   "source": [
    "#transit_predictor('TIC: 220459976',period=32.332528,epoch=1361.663925+2457000.0,duration=3.46)"
   ]
  },
  {
   "cell_type": "code",
   "execution_count": 3,
   "metadata": {},
   "outputs": [],
   "source": [
    "#transit_predictor('TIC: 220459976',period=32.332528,epoch=1361.663925+2457000.0,duration=3.46)"
   ]
  },
  {
   "cell_type": "code",
   "execution_count": 4,
   "metadata": {},
   "outputs": [],
   "source": [
    "#transit_predictor('TIC: 420112589',period=11.062190,epoch=1691.52391+2457000.0,duration=1.63)"
   ]
  },
  {
   "cell_type": "code",
   "execution_count": 7,
   "metadata": {},
   "outputs": [],
   "source": [
    "#transit_predictor('TIC 271971130',period=19.287523,epoch=1327.551446+2457000.0,duration=2.07)"
   ]
  },
  {
   "cell_type": "code",
   "execution_count": 11,
   "metadata": {},
   "outputs": [],
   "source": [
    "#transit_predictor('TIC 153077621',period=18.082538,epoch=1414.220898+2457000.0,duration=2.28)"
   ]
  },
  {
   "cell_type": "code",
   "execution_count": 15,
   "metadata": {},
   "outputs": [],
   "source": [
    "#transit_predictor('TIC 343628284',period=8.113675,epoch=1713.333728+2457000.0,duration=2.35)"
   ]
  },
  {
   "cell_type": "code",
   "execution_count": 3,
   "metadata": {},
   "outputs": [],
   "source": [
    "#transit_predictor('TIC 312862941',period=0.901387,epoch=1791.146368+2457000.0,duration=0.76)"
   ]
  },
  {
   "cell_type": "code",
   "execution_count": 3,
   "metadata": {},
   "outputs": [],
   "source": [
    "#transit_predictor('TIC 259962054',period=51.953234,epoch=1327.729066+2457000.0,duration=6.3)"
   ]
  },
  {
   "cell_type": "code",
   "execution_count": 9,
   "metadata": {},
   "outputs": [],
   "source": [
    "#transit_predictor('TIC 441738827',period=8.148826,epoch=1745.404528+2457000.0,duration=1.63)"
   ]
  },
  {
   "cell_type": "code",
   "execution_count": 11,
   "metadata": {},
   "outputs": [],
   "source": [
    "#transit_predictor('TIC 142748283',period=3.119035,epoch=1684.832891+2457000.0,duration=1.27)"
   ]
  },
  {
   "cell_type": "code",
   "execution_count": 13,
   "metadata": {},
   "outputs": [],
   "source": [
    "#transit_predictor('TIC 142748283',period=6.387611,epoch=1687.539955+2457000.0,duration=1.25)"
   ]
  },
  {
   "cell_type": "code",
   "execution_count": 8,
   "metadata": {},
   "outputs": [],
   "source": [
    "#transit_predictor('TIC 336128819',period=7.851706,epoch=2017.704899+2457000.0,duration=1.608369)"
   ]
  },
  {
   "cell_type": "code",
   "execution_count": null,
   "metadata": {},
   "outputs": [],
   "source": []
  }
 ],
 "metadata": {
  "kernelspec": {
   "display_name": "Python 3",
   "language": "python",
   "name": "python3"
  },
  "language_info": {
   "codemirror_mode": {
    "name": "ipython",
    "version": 3
   },
   "file_extension": ".py",
   "mimetype": "text/x-python",
   "name": "python",
   "nbconvert_exporter": "python",
   "pygments_lexer": "ipython3",
   "version": "3.7.4"
  }
 },
 "nbformat": 4,
 "nbformat_minor": 4
}
