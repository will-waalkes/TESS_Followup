{
 "cells": [
  {
   "cell_type": "code",
   "execution_count": 29,
   "metadata": {},
   "outputs": [],
   "source": [
    "%matplotlib inline\n",
    "import numpy as np\n",
    "import matplotlib.pyplot as plt\n",
    "import pandas\n",
    "import seaborn as sn\n",
    "from astropy.io import ascii\n",
    "import astropy.constants as c\n",
    "import astropy.units as u\n",
    "import exoatlas as ea"
   ]
  },
  {
   "cell_type": "code",
   "execution_count": 47,
   "metadata": {},
   "outputs": [],
   "source": [
    "solar_system = ascii.read('Data/SolarSys_data.dat')\n",
    "candidates = pandas.read_csv('Data/toi-catalog.csv',comment='#')\n",
    "params = pandas.read_csv('Data/TESS_Objects.csv',comment='#')\n",
    "target_list = pandas.read_csv('Data/target_list_2021A.csv',comment='#')"
   ]
  },
  {
   "cell_type": "code",
   "execution_count": 40,
   "metadata": {},
   "outputs": [
    {
     "name": "stdout",
     "output_type": "stream",
     "text": [
      "C:\\Users\\wwaal\\Desktop\\Research\\TESS_Followup\\exoatlas-downloads\\data/standardized-AllExoplanets.txt is 0.007 days old.\n"
     ]
    },
    {
     "name": "stdin",
     "output_type": "stream",
     "text": [
      "Should it be updated? [y/N] n\n"
     ]
    }
   ],
   "source": [
    "pop = ea.TransitingExoplanets()"
   ]
  },
  {
   "cell_type": "code",
   "execution_count": 48,
   "metadata": {},
   "outputs": [],
   "source": [
    "params = pandas.read_csv('Data/mdwarfTOIs_150pc.csv',comment='#')\n",
    "pop = pop[pop.stellar_radius < 0.5*u.R_sun]\n",
    "pop = pop[pop.distance < 150.0*u.pc]"
   ]
  },
  {
   "cell_type": "code",
   "execution_count": 49,
   "metadata": {},
   "outputs": [],
   "source": [
    "# Data on all TOIs\n",
    "tic_id = candidates['TIC']\n",
    "TOI = candidates['Full TOI ID']\n",
    "Tmag = np.array(candidates['TMag Value'])\n",
    "Period = np.array(candidates['Orbital Period Value'])\n",
    "dPeriod = np.array(candidates['Orbital Period Error'])\n",
    "R_s = np.array(candidates['Star Radius Value'])\n",
    "dR_s = np.array(candidates['Star Radius Error'])\n",
    "R_p = np.array(candidates['Planet Radius Value'])\n",
    "dR_p = np.array(candidates['Planet Radius Error'])\n",
    "Insolation = np.array(candidates['Effective Stellar Flux Value'])\n",
    "T_eq = np.array(candidates['Planet Equilibrium Temperature (K) Value'])\n",
    "T_eff = np.array(candidates['Effective Temperature Value'])\n",
    "Depth = np.array(candidates['Transit Depth Value'])/1000"
   ]
  },
  {
   "cell_type": "code",
   "execution_count": 51,
   "metadata": {},
   "outputs": [],
   "source": [
    "# Data on M dwarf TOIs\n",
    "tic_id_sample = params['TIC ID']\n",
    "TOI_sample = params['TOI']\n",
    "Tmag_sample = np.array(params['Tmag'])\n",
    "Period_sample = np.array(params['P (days)'] )# must be in days\n",
    "dPeriod_sample = np.array(params['dP']) # must be in days\n",
    "R_s_sample = np.array(params['R_s'])\n",
    "dR_s_sample = np.array(params['dR_s'])\n",
    "R_p_sample = np.array(params['R_E']) # Earth radii\n",
    "dR_p_sample = np.array(params['dRe'])\n",
    "Insolation_sample = np.array(params['Insol'])\n",
    "T_eq_sample = np.array(params['T_eq'])\n",
    "T_eff_sample = np.array(params['T_eff'])\n",
    "Depth_sample = np.array(params['Depth'])/1000 #ppt\n",
    "\n",
    "have_data = params['Data']"
   ]
  },
  {
   "cell_type": "code",
   "execution_count": 52,
   "metadata": {},
   "outputs": [],
   "source": [
    "# Data on subsample for LCO 2021A\n",
    "\n",
    "tic_id_targets = target_list['TIC ID']\n",
    "TOI_targets = target_list['TOI']\n",
    "Tmag_targets = np.array(target_list['Tmag'])\n",
    "Period_targets = np.array(target_list['P (days)'] )# must be in days\n",
    "dPeriod_targets = np.array(target_list['dP']) # must be in days\n",
    "R_s_targets = np.array(target_list['R_s'])\n",
    "dR_s_targets = np.array(target_list['dR_s'])\n",
    "R_p_targets = np.array(target_list['R_E']) # Earth radii\n",
    "dR_p_targets = np.array(target_list['dRe'])\n",
    "Insolation_targets = np.array(target_list['Insol'])\n",
    "T_eq_targets = np.array(target_list['T_eq'])\n",
    "T_eff_targets = np.array(target_list['T_eff'])\n",
    "Depth_targets = np.array(target_list['Depth'])/1000 #ppt"
   ]
  },
  {
   "cell_type": "code",
   "execution_count": 53,
   "metadata": {},
   "outputs": [],
   "source": [
    "Rp_all = pop.radius\n",
    "vesc_all = np.sqrt(2*c.G*(pop.mass*c.M_earth)/(Rp_all*c.R_earth))\n",
    "vtherm_all = np.sqrt(3*(c.k_B*pop.teq*u.K/c.m_p))\n",
    "vesc_vtherm_all = vesc_all/vtherm_all\n",
    "\n",
    "S = pop.relative_insolation"
   ]
  },
  {
   "cell_type": "code",
   "execution_count": 54,
   "metadata": {},
   "outputs": [],
   "source": [
    "ss_names = solar_system['Planet']\n",
    "ss_vesc = solar_system['Vesc']\n",
    "ss_vtherm = solar_system['Vtherm']\n",
    "ss_insol = solar_system['Insolation']\n",
    "ss_re = solar_system['R_earth']"
   ]
  },
  {
   "cell_type": "code",
   "execution_count": 61,
   "metadata": {},
   "outputs": [],
   "source": [
    "def TESS_Pop_plots(x, y, x_sample, y_sample,\n",
    "                   xs_err,ys_err,\n",
    "                   Title=None,\n",
    "                   xlabel=None,\n",
    "                   ylabel=None,\n",
    "                   vmin=None,\n",
    "                   vmax=None,\n",
    "                   xlim=None,\n",
    "                   ylim=None,\n",
    "                   whatplot='Insolation',\n",
    "                   fontcolor_a='blue',\n",
    "                   fontcolor_b='red',\n",
    "                   xscale = 'linear',\n",
    "                   yscale = 'linear',\n",
    "                   figname='You didnt give me a name.pdf',\n",
    "                   extras=False):\n",
    "    \n",
    "    if ylim == None:\n",
    "        ylim =[np.nanmin(y),np.nanmax(y)]\n",
    "    if xlim == None:\n",
    "        xlim =[np.nanmin(x),np.nanmax(x)]\n",
    "    \n",
    "    fig, ax1 = plt.subplots(figsize=(6,6), nrows=1, ncols=1)\n",
    "    \n",
    "    if extras == True:\n",
    "        ax1.scatter(x_sample, y_sample, alpha=0.7, color = 'black',\n",
    "                    label='Proposed Targets',s=30)\n",
    "\n",
    "#         ax1.errorbar(x_sample[have_data], y_sample[have_data],\n",
    "#                      xerr = xs_err[have_data],\n",
    "#                      yerr = ys_err[have_data],\n",
    "#                      alpha=0.7,color = 'royalblue',\n",
    "#                      label='Have LCO Data',fmt='o',markersize=5,\n",
    "#                      zorder=-1)\n",
    "        \n",
    "    if whatplot == 'Insolation':\n",
    "        \n",
    "        ax1.scatter(x, y, alpha=0.4, color='#c45508', zorder=-100,\n",
    "                label='M dwarf TOIs', s=5, rasterized=True)\n",
    "\n",
    "        ax1.scatter(S, Rp_all, alpha = 0.9 ,color = 'gray', zorder=-500,\n",
    "                    label='Confirmed Planets',s=5, rasterized=True)\n",
    "        \n",
    "        ax1.axvspan(0.25,1.5,alpha=0.3,color='green',label='Optimistic HZ')\n",
    "        \n",
    "        for i in range(len(ss_names)):\n",
    "        \n",
    "            ax1.scatter(ss_insol[i],ss_re[i],\n",
    "                        zorder=10,s=20,color='#0d75f8')        \n",
    "            if (ss_names[i] == 'Earth') or (ss_names[i] == 'Uranus') or (ss_names[i] == 'Mars'):\n",
    "                ax1.annotate(ss_names[i], (ss_insol[i], ss_re[i]*1.1),fontsize=10,\n",
    "                             zorder=1000,color='#0d75f8') \n",
    "            else:\n",
    "                ax1.annotate(ss_names[i], (ss_insol[i], ss_re[i]*0.8),fontsize=10,zorder=1000,\n",
    "                             color='#0d75f8')\n",
    "                \n",
    "    if whatplot == 'Escape':\n",
    "        \n",
    "        ax1.scatter(vesc_all/vtherm_all, Rp_all, alpha = 0.5 ,color = 'gray',\n",
    "                    zorder=-500, label='Confirmed Planets',s=5)\n",
    "\n",
    "        for i in range(len(ss_names)):\n",
    "\n",
    "            ax1.scatter(ss_vesc[i]/ss_vtherm[i],ss_re[i],zorder=10,s=20, color='#0d75f8')\n",
    "\n",
    "            if (ss_names[i] == 'Earth') or (ss_names[i] == 'Uranus'):\n",
    "                ax1.annotate(ss_names[i], (ss_vesc[i]/ss_vtherm[i], ss_re[i]*1.1),fontsize=10,zorder=1000,\n",
    "                             color='#0d75f8')\n",
    "\n",
    "            else:\n",
    "                ax1.annotate(ss_names[i], (ss_vesc[i]/ss_vtherm[i], ss_re[i]*0.7),fontsize=10,zorder=1000,\n",
    "                             color='#0d75f8')\n",
    "\n",
    "\n",
    "    ax1.set_ylabel(ylabel, fontsize=16)\n",
    "    ax1.set_xlabel(xlabel,fontsize=16)\n",
    "    ax1.set_title(Title,fontsize=17)\n",
    "    ax1.set_ylim(ylim[0],ylim[1])\n",
    "    ax1.set_xlim(xlim[0],xlim[1])\n",
    "    ax1.legend(loc='lower left')\n",
    "    ax1.set_yscale(yscale)\n",
    "    ax1.set_xscale(xscale)\n",
    "\n",
    "    plt.tight_layout()\n",
    "    plt.savefig(figname,dpi=400)\n",
    "    plt.show()"
   ]
  },
  {
   "cell_type": "code",
   "execution_count": 62,
   "metadata": {},
   "outputs": [
    {
     "data": {
      "image/png": "[encoded data removed]",
      "text/plain": [
       "<Figure size 432x432 with 1 Axes>"
      ]
     },
     "metadata": {
      "needs_background": "light"
     },
     "output_type": "display_data"
    }
   ],
   "source": [
    "TESS_Pop_plots(y = R_p_sample,\n",
    "               x = Insolation_sample,\n",
    "               y_sample = R_p_targets,\n",
    "               x_sample = Insolation_targets,\n",
    "               ys_err = dR_p_targets,\n",
    "               xs_err = 0.3*Insolation_targets,\n",
    "               #Title = 'M Dwarf Candidates are Small and Cool',\n",
    "               ylabel = r'R$_p$ (R$_{E}$)',\n",
    "               xlabel = r'Insolation (S$_{\\rm{Earth}}$)',\n",
    "               whatplot='Insolation',\n",
    "               fontcolor_a='black',\n",
    "               fontcolor_b='black',\n",
    "               xscale = 'log',\n",
    "               yscale = 'log',\n",
    "               ylim=[0.3,15],\n",
    "               xlim = [0.0005, 1e3],\n",
    "               figname='Figs/TOIs_Rp_Insol.pdf',extras=True)"
   ]
  },
  {
   "cell_type": "code",
   "execution_count": 142,
   "metadata": {},
   "outputs": [
    {
     "data": {
      "image/png": "[encoded data removed]",
      "text/plain": [
       "<Figure size 432x432 with 1 Axes>"
      ]
     },
     "metadata": {
      "needs_background": "light"
     },
     "output_type": "display_data"
    }
   ],
   "source": [
    "TESS_Pop_plots(y = Rp_all,\n",
    "               x = vesc_all/vtherm_all,\n",
    "               y_sample = 0,\n",
    "               x_sample = 0,\n",
    "               ys_err = 0,\n",
    "               xs_err = 0,\n",
    "               ylabel = r'R$_p$ (R$_{E}$)',\n",
    "               xlabel = r'v$_{\\rm{escape}}$/v$_{\\rm{thermal}}$',\n",
    "               whatplot = 'Escape',\n",
    "               fontcolor_a='black',\n",
    "               fontcolor_b='black',\n",
    "               xscale = 'log',\n",
    "               yscale = 'log',\n",
    "               ylim=[0.3,30],\n",
    "               xlim = [1, 1e2],\n",
    "               figname='TOIs_vesc_vtherm.pdf')"
   ]
  },
  {
   "cell_type": "code",
   "execution_count": null,
   "metadata": {},
   "outputs": [],
   "source": [
    "# TESS_Pop_plots(x = R_s,\n",
    "#                y = Tmag,\n",
    "#                x_sample = R_s_sample,\n",
    "#                y_sample = Tmag_sample,\n",
    "#                cbar = T_eff,\n",
    "#                cbar_sample = T_eff_sample,\n",
    "#                xs_err = dR_s_sample,\n",
    "#                ys_err = np.zeros(shape=len(Tmag_sample)),\n",
    "#                Title = 'M Dwarf Candidates Tend to be Faint',\n",
    "#                xlabel = r'R$_s$ (R$_{\\odot}$)',\n",
    "#                ylabel = 'Tmag',\n",
    "#                cbar_label = r'T$_{\\rm{eff}}$',\n",
    "#                vmin = 2400,\n",
    "#                vmax = 4000,\n",
    "#                yscale = 'linear',\n",
    "#                xscale = 'log',\n",
    "#                #xlim=[0.5,40],\n",
    "#                cmap=\"coolwarm_r\",\n",
    "#                figname='TOIs_Rs_Tmag.pdf')\n",
    "\n",
    "#ax1.axhspan(ylim[0],11,alpha=0.3,color='orange',label='Bright enough for RV')"
   ]
  },
  {
   "cell_type": "code",
   "execution_count": null,
   "metadata": {},
   "outputs": [],
   "source": [
    "# TESS_Pop_plots(y = Tmag,\n",
    "#                x = Depth,\n",
    "#                x_sample = Depth_sample,\n",
    "#                y_sample = Tmag_sample,\n",
    "#                cbar = R_p,\n",
    "#                cbar_sample = R_p_sample,\n",
    "#                xs_err = np.zeros(shape=len(Tmag_sample)),\n",
    "#                ys_err = np.zeros(shape=len(Tmag_sample)),\n",
    "#                Title = 'Ground-based Followup Useful for Faint Targets',\n",
    "#                xlabel = 'Depth (ppt)',\n",
    "#                ylabel = 'Tmag',\n",
    "#                cbar_label = r'R$_p$ (R$_{E}$)',\n",
    "#                vmin = 1,\n",
    "#                vmax = 10,\n",
    "#                xscale = 'log',\n",
    "#                #yscale = 'log',\n",
    "#                xlim=[0.01,1e3],\n",
    "#                cmap=\"plasma\",\n",
    "#                figname='TOIs_depth_tmag.pdf')\n",
    "\n",
    "#ax1.axvspan(xlim[0],1,alpha=0.3,color='purple',label='Hard to detect this depth)"
   ]
  },
  {
   "cell_type": "code",
   "execution_count": null,
   "metadata": {},
   "outputs": [],
   "source": [
    "# TESS_Pop_plots(y = R_p,\n",
    "#                x = Period,\n",
    "#                y_sample = R_p_sample,\n",
    "#                x_sample = Period_sample,\n",
    "#                cbar = Tmag,\n",
    "#                cbar_sample = Tmag_sample,\n",
    "#                ys_err = dR_p_sample,\n",
    "#                xs_err = dPeriod_sample,\n",
    "#                Title = 'Many Large M Dwarf Candidates',\n",
    "#                ylabel = r'R$_p$ (R$_{E}$)',\n",
    "#                xlabel = 'Orbital Period (d)',\n",
    "#                cbar_label = 'Tmag',\n",
    "#                vmin = 8.5,\n",
    "#                vmax = 11,\n",
    "#                xscale = 'log',\n",
    "#                yscale = 'log',\n",
    "#                ylim=[0.5,40],\n",
    "#                cmap=\"cividis\",\n",
    "#                figname='TOIs_Rp_Per.pdf')\n",
    "\n",
    "#ax1.axhspan(0,1.25,alpha=0.6,color='pink',label='Rp<1.25R$_{E}$')"
   ]
  },
  {
   "cell_type": "code",
   "execution_count": null,
   "metadata": {},
   "outputs": [],
   "source": []
  }
 ],
 "metadata": {
  "kernelspec": {
   "display_name": "Python 3",
   "language": "python",
   "name": "python3"
  },
  "language_info": {
   "codemirror_mode": {
    "name": "ipython",
    "version": 3
   },
   "file_extension": ".py",
   "mimetype": "text/x-python",
   "name": "python",
   "nbconvert_exporter": "python",
   "pygments_lexer": "ipython3",
   "version": "3.8.3"
  }
 },
 "nbformat": 4,
 "nbformat_minor": 4
}
