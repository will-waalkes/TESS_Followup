{
 "cells": [
  {
   "cell_type": "code",
   "execution_count": 1,
   "metadata": {},
   "outputs": [],
   "source": [
    "import matplotlib.pyplot as plt\n",
    "import numpy as np\n",
    "import astropy.constants as c\n",
    "import astropy.units as u"
   ]
  },
  {
   "cell_type": "code",
   "execution_count": 2,
   "metadata": {},
   "outputs": [],
   "source": [
    "def Stellar_Mass_Ks(kmag,parallax): # Mann+ 2019\n",
    "    \n",
    "    a = np.array([-0.647,-0.208,-8.43e-4,7.87e-3,1.42e-4,-2.13e-4])\n",
    "    i = np.array([0,1,2,3,4,5])\n",
    "    \n",
    "    Kmag = kmag - 5*np.log10(parallax/10)\n",
    "    mass_integral = a*((Kmag-7.5)**i)\n",
    "    Mass = np.sum(mass_integral)\n",
    "    return 10**Mass # errors are 5%"
   ]
  },
  {
   "cell_type": "code",
   "execution_count": 3,
   "metadata": {},
   "outputs": [],
   "source": [
    "def Stellar_Radius_Teff(T_eff): # Mann+ 2015, eqn 4\n",
    "    \n",
    "    a = 10.544\n",
    "    b = -33.7546\n",
    "    c = 35.1909\n",
    "    d = -11.5928\n",
    "    \n",
    "    X = T_eff/3500\n",
    "    \n",
    "    Radius = a + b*X + c*X**2 + d*X**3\n",
    "    \n",
    "    return Radius # 14% error"
   ]
  },
  {
   "cell_type": "code",
   "execution_count": 4,
   "metadata": {},
   "outputs": [],
   "source": [
    "def Stellar_Radius_Ks(kmag,parallax): # Mann+ 2015, eqn 4\n",
    "    \n",
    "    a = 1.9515\n",
    "    b = -0.352\n",
    "    c = 0.0168\n",
    "    Kmag = kmag - 5*np.log10(parallax/10)\n",
    "    radius = a + b*Kmag +c*Kmag**2.0\n",
    "    return radius # 5% error"
   ]
  },
  {
   "cell_type": "code",
   "execution_count": 5,
   "metadata": {},
   "outputs": [],
   "source": [
    "def Stellar_Teff_VJH(v,j,h): # Mann+ 2015\n",
    "\n",
    "    X = v-j \n",
    "    a = 2.769 \n",
    "    b = -1.421\n",
    "    c = 0.4284\n",
    "    d = -0.06133\n",
    "    e = 0.003310\n",
    "    f = 0.1333\n",
    "    g = -0.05416\n",
    "    Teff = a + b*(X) + c*(X**2) + d*(X**3) + e*(X**4) + f*((j-h)) + g*((j-h)**2)\n",
    "    return Teff*3500"
   ]
  },
  {
   "cell_type": "code",
   "execution_count": 6,
   "metadata": {},
   "outputs": [],
   "source": [
    "def Stellar_Teff_VIc(v,ic): # Mann+ 2015\n",
    "\n",
    "    X = v-ic\n",
    "    a = 2.455\n",
    "    b = -1.5701\n",
    "    c = 0.6891\n",
    "    d = -0.15\n",
    "    e = 0.01254\n",
    "    Teff = a + b*(X) + c*(X**2) + d*(X**3) + e*(X**4)\n",
    "    \n",
    "    return Teff*3500"
   ]
  },
  {
   "cell_type": "code",
   "execution_count": 7,
   "metadata": {},
   "outputs": [],
   "source": [
    "def Stellar_Teff_VJ(v,j): # Mann+ 2015\n",
    "    \n",
    "    X = v-j\n",
    "    a = 2.84\n",
    "    b = -1.3453\n",
    "    c = 0.3906\n",
    "    d = -0.0546\n",
    "    e = 0.002913\n",
    "    Teff = a + b*(X) + c*(X**2) + d*(X**3) + e*(X**4)\n",
    "    \n",
    "    return Teff*3500"
   ]
  },
  {
   "cell_type": "code",
   "execution_count": 8,
   "metadata": {},
   "outputs": [],
   "source": [
    "def Bolometric_Correction_Lum(v, j, parallax):\n",
    "    \n",
    "    #sigma = +/- 0.016, or 5% (inflated from 2-3%)\n",
    "    \n",
    "    a = 0.5817\n",
    "    b = -0.4168\n",
    "    c = -0.08165\n",
    "    d = 4.084e-3\n",
    "    \n",
    "    X = v-j\n",
    "    Distance = parallax/10\n",
    "    V = v - 5*np.log10(Distance)\n",
    "    \n",
    "    BCv = a + b*(X) + c*(X**2) + d*(X**3)\n",
    "    mbol = v + BCv\n",
    "    Mbol = mbol - 5*np.log10(Distance)\n",
    "    Msun = 4.8\n",
    "    \n",
    "    lum = 10**((Msun-Mbol)/2.5)\n",
    "    \n",
    "    return lum"
   ]
  },
  {
   "cell_type": "code",
   "execution_count": 9,
   "metadata": {},
   "outputs": [],
   "source": [
    "def Luminosity(R,Teff):\n",
    "    \n",
    "    L = R**2*(Teff/5770)**4\n",
    "    return L"
   ]
  },
  {
   "cell_type": "code",
   "execution_count": 10,
   "metadata": {},
   "outputs": [],
   "source": [
    "def Density(M,R):\n",
    "    \n",
    "    Mass = M*c.M_sun * (1000*u.g/u.kg)\n",
    "    volume = 4/3*np.pi*(R*c.R_sun)**3 * (100*u.cm/u.m)**3\n",
    "    density = Mass/volume\n",
    "    \n",
    "    return density"
   ]
  },
  {
   "cell_type": "markdown",
   "metadata": {},
   "source": [
    "## TOI 203\n"
   ]
  },
  {
   "cell_type": "code",
   "execution_count": 11,
   "metadata": {},
   "outputs": [
    {
     "data": {
      "text/plain": [
       "0.20004334259636225"
      ]
     },
     "execution_count": 11,
     "metadata": {},
     "output_type": "execute_result"
    }
   ],
   "source": [
    "Stellar_Mass_Ks(9.722,24.8)"
   ]
  },
  {
   "cell_type": "code",
   "execution_count": 12,
   "metadata": {},
   "outputs": [
    {
     "data": {
      "text/plain": [
       "0.23257367094018844"
      ]
     },
     "execution_count": 12,
     "metadata": {},
     "output_type": "execute_result"
    }
   ],
   "source": [
    "Stellar_Radius_Ks(9.722,24.8)"
   ]
  },
  {
   "cell_type": "code",
   "execution_count": 14,
   "metadata": {},
   "outputs": [
    {
     "data": {
      "text/plain": [
       "3064.246519157603"
      ]
     },
     "execution_count": 14,
     "metadata": {},
     "output_type": "execute_result"
    }
   ],
   "source": [
    "Stellar_Teff_VJH(15.02,10.56,10.05)"
   ]
  },
  {
   "cell_type": "markdown",
   "metadata": {},
   "source": [
    "### TOI 237"
   ]
  },
  {
   "cell_type": "code",
   "execution_count": 98,
   "metadata": {},
   "outputs": [
    {
     "data": {
      "text/plain": [
       "0.004086026704677663"
      ]
     },
     "execution_count": 98,
     "metadata": {},
     "output_type": "execute_result"
    }
   ],
   "source": [
    "Bolometric_Correction_Lum(16.37,11.74,38.11)"
   ]
  },
  {
   "cell_type": "code",
   "execution_count": 99,
   "metadata": {},
   "outputs": [
    {
     "data": {
      "text/plain": [
       "array([0.0033452 , 0.00402592, 0.00477037])"
      ]
     },
     "execution_count": 99,
     "metadata": {},
     "output_type": "execute_result"
    }
   ],
   "source": [
    "luminosities = Luminosity(np.random.normal(0.211,0.016,1000),\n",
    "                          np.random.normal(3160,60,1000))\n",
    "np.percentile(luminosities,[16.,50.,84.])"
   ]
  },
  {
   "cell_type": "code",
   "execution_count": 100,
   "metadata": {},
   "outputs": [
    {
     "data": {
      "text/plain": [
       "0.17850158640890543"
      ]
     },
     "execution_count": 100,
     "metadata": {},
     "output_type": "execute_result"
    }
   ],
   "source": [
    "Stellar_Mass_Ks(10.896,38.11)"
   ]
  },
  {
   "cell_type": "code",
   "execution_count": 101,
   "metadata": {},
   "outputs": [
    {
     "data": {
      "text/plain": [
       "0.2114664230169081"
      ]
     },
     "execution_count": 101,
     "metadata": {},
     "output_type": "execute_result"
    }
   ],
   "source": [
    "Stellar_Radius_Ks(10.896,38.11)"
   ]
  },
  {
   "cell_type": "code",
   "execution_count": 102,
   "metadata": {},
   "outputs": [],
   "source": [
    "#Stellar_Radius_Teff(3160)"
   ]
  },
  {
   "cell_type": "code",
   "execution_count": 103,
   "metadata": {},
   "outputs": [
    {
     "data": {
      "text/plain": [
       "3024.6023836668487"
      ]
     },
     "execution_count": 103,
     "metadata": {},
     "output_type": "execute_result"
    }
   ],
   "source": [
    "Stellar_Teff_VJH(16.37,11.74,11.19)"
   ]
  },
  {
   "cell_type": "code",
   "execution_count": 104,
   "metadata": {},
   "outputs": [
    {
     "data": {
      "text/plain": [
       "3163.8274476547535"
      ]
     },
     "execution_count": 104,
     "metadata": {},
     "output_type": "execute_result"
    }
   ],
   "source": [
    "Stellar_Teff_VJ(16.37,11.74)"
   ]
  },
  {
   "cell_type": "code",
   "execution_count": 116,
   "metadata": {},
   "outputs": [
    {
     "data": {
      "text/plain": [
       "array([22.97596378, 27.01276583, 31.6783442 ])"
      ]
     },
     "execution_count": 116,
     "metadata": {},
     "output_type": "execute_result"
    }
   ],
   "source": [
    "dens = Density(np.random.normal(0.179,0.009,10000),np.random.normal(0.211,0.011,10000))\n",
    "np.percentile(dens,[16.,50.,84.])"
   ]
  },
  {
   "cell_type": "code",
   "execution_count": 105,
   "metadata": {},
   "outputs": [],
   "source": [
    "# plt.figure(figsize=(8,8))\n",
    "# plt.xlim(0.1,0.5)\n",
    "# plt.xlabel('Mass (Msun)')\n",
    "# plt.ylim(0.1,0.5)\n",
    "# plt.ylabel('Radius (Rsun)')\n",
    "\n",
    "# plt.axvspan(0.17,0.188, label='Mann+ 2019 (MKs)',color='black',alpha=0.3)\n",
    "# plt.axhspan((0.183),(0.203), label='Mann+ 2015 (Teff=3085K)',color='hotpink',alpha=0.3)\n",
    "# plt.axhspan((0.2),(0.222), label='Mann+ 2015 (MKs)',color='b',alpha=0.3)\n",
    "# plt.axhspan((0.24),(0.32), label='Magellan FIRE',color='orange', alpha=0.3)\n",
    "# plt.axhspan((0.195),(0.219), label='Michele Silversteins Pipeline',color='green',alpha=0.3)\n",
    "\n",
    "# plt.plot(Masses_from_Mann2019/c.M_sun,radii_from_density,color='k',\n",
    "#          label=r'Radius based on $\\rho_{*}$')\n",
    "\n",
    "# plt.legend()\n",
    "# plt.show()"
   ]
  },
  {
   "cell_type": "code",
   "execution_count": 106,
   "metadata": {},
   "outputs": [],
   "source": [
    "# plt.figure(figsize=(8,8))\n",
    "# plt.xlim(2800,3900)\n",
    "# plt.xlabel('Teff (K)')\n",
    "# plt.ylim(0.1,0.5)\n",
    "# plt.ylabel('Radius (Rsun)')\n",
    "\n",
    "# plt.axhspan((0.183),(0.203), label='Mann+ 2015 (Teff=3085K)',color='blue',alpha=0.3)\n",
    "# plt.axhspan((0.2),(0.222), label='Mann+ 2015 (MKs)',color='red',alpha=0.3)\n",
    "\n",
    "# plt.axhspan((0.24),(0.32), label='Magellan FIRE',color='orange', alpha=0.3)\n",
    "# plt.axvspan((2998),(3172),color='orange', alpha=0.3)\n",
    "\n",
    "# plt.axhspan((0.195),(0.219), label='Michele Silversteins Pipeline',color='green',alpha=0.3)\n",
    "# plt.axvspan((3073),(3255),color='green', alpha=0.3)\n",
    "\n",
    "# plt.errorbar()\n",
    "\n",
    "# plt.axvspan((2900),(3100), label='SALT HRS',color='hotpink', alpha=0.3)\n",
    "# plt.axvspan((2874),(3176), label='Mann+ 2015 (VJH)',color='k', alpha=0.3)\n",
    "\n",
    "# plt.legend()\n",
    "# plt.show()"
   ]
  },
  {
   "cell_type": "markdown",
   "metadata": {},
   "source": [
    "## TOI 122"
   ]
  },
  {
   "cell_type": "code",
   "execution_count": 107,
   "metadata": {},
   "outputs": [
    {
     "data": {
      "text/plain": [
       "0.014012798748905705"
      ]
     },
     "execution_count": 107,
     "metadata": {},
     "output_type": "execute_result"
    }
   ],
   "source": [
    "Bolometric_Correction_Lum(15.526,11.531,62.12)"
   ]
  },
  {
   "cell_type": "code",
   "execution_count": 120,
   "metadata": {},
   "outputs": [
    {
     "data": {
      "text/plain": [
       "array([0.01131071, 0.0128131 , 0.01445402])"
      ]
     },
     "execution_count": 120,
     "metadata": {},
     "output_type": "execute_result"
    }
   ],
   "source": [
    "luminosities = Luminosity(np.random.normal(0.334,0.017,10000),\n",
    "                          np.random.normal(3360,60,10000))\n",
    "np.percentile(luminosities,[16.,50.,84.])"
   ]
  },
  {
   "cell_type": "code",
   "execution_count": 119,
   "metadata": {},
   "outputs": [],
   "source": [
    "#Stellar_Radius_Teff(3360)"
   ]
  },
  {
   "cell_type": "code",
   "execution_count": 25,
   "metadata": {},
   "outputs": [
    {
     "data": {
      "text/plain": [
       "0.33413421570192503"
      ]
     },
     "execution_count": 25,
     "metadata": {},
     "output_type": "execute_result"
    }
   ],
   "source": [
    "Stellar_Radius_Ks(10.771,62.12)"
   ]
  },
  {
   "cell_type": "code",
   "execution_count": 21,
   "metadata": {},
   "outputs": [
    {
     "data": {
      "text/plain": [
       "0.3123268329641512"
      ]
     },
     "execution_count": 21,
     "metadata": {},
     "output_type": "execute_result"
    }
   ],
   "source": [
    "Stellar_Mass_Ks(10.771,62.12)"
   ]
  },
  {
   "cell_type": "code",
   "execution_count": 18,
   "metadata": {},
   "outputs": [
    {
     "data": {
      "text/plain": [
       "3206.2297494091144"
      ]
     },
     "execution_count": 18,
     "metadata": {},
     "output_type": "execute_result"
    }
   ],
   "source": [
    "Stellar_Teff_VJH(15.526,11.531,11.02)"
   ]
  },
  {
   "cell_type": "code",
   "execution_count": 26,
   "metadata": {},
   "outputs": [
    {
     "data": {
      "text/plain": [
       "3360.7218302028728"
      ]
     },
     "execution_count": 26,
     "metadata": {},
     "output_type": "execute_result"
    }
   ],
   "source": [
    "Stellar_Teff_VJ(15.526,11.531)"
   ]
  },
  {
   "cell_type": "code",
   "execution_count": 118,
   "metadata": {},
   "outputs": [
    {
     "data": {
      "text/plain": [
       "array([10.09307007, 11.8180517 , 13.93551821])"
      ]
     },
     "execution_count": 118,
     "metadata": {},
     "output_type": "execute_result"
    }
   ],
   "source": [
    "dens = Density(np.random.normal(0.312,0.016,10000),np.random.normal(0.334,0.017,10000))\n",
    "np.percentile(dens,[16.,50.,84.])"
   ]
  },
  {
   "cell_type": "code",
   "execution_count": 22,
   "metadata": {},
   "outputs": [],
   "source": [
    "# plt.figure(figsize=(8,8))\n",
    "# plt.xlim(0.1,0.5)\n",
    "# plt.xlabel('Mass (Msun)')\n",
    "# plt.ylim(0.1,0.5)\n",
    "# plt.ylabel('Radius (Rsun)')\n",
    "\n",
    "# plt.axvspan(0.296,0.328, label='Mann+ 2019 (MKs)',color='black',alpha=0.3)\n",
    "# plt.axhspan((0.483),(0.533), label='Mann+ 2015 (Teff=3732K)',color='hotpink',alpha=0.3)\n",
    "# plt.axhspan(0.317,0.351, label='Mann+ 2015 (MKs)',color='b',alpha=0.3)\n",
    "# plt.axhspan((0.41),(0.47), label='Magellan FIRE',color='orange', alpha=0.3)\n",
    "# plt.axhspan((0.316),(0.354), label='Michele Silversteins Pipeline',color='green',alpha=0.3)\n",
    "\n",
    "# plt.plot(Masses_from_Mann2019/c.M_sun,radii_from_density,color='k',\n",
    "#          label=r'Radius based on $\\rho_{*}$')\n",
    "\n",
    "# plt.legend()\n",
    "# plt.show()"
   ]
  },
  {
   "cell_type": "code",
   "execution_count": 23,
   "metadata": {},
   "outputs": [],
   "source": [
    "# plt.figure(figsize=(8,8))\n",
    "# plt.xlim(3000,4000)\n",
    "# plt.xlabel('Teff (K)')\n",
    "# plt.ylim(0.1,0.5)\n",
    "# plt.ylabel('Radius (Rsun)')\n",
    "\n",
    "# plt.axhspan((0.483),(0.533), label='Mann+ 2015 (Teff=3732K)',color='hotpink',alpha=0.3)\n",
    "# plt.axhspan(0.317,0.351, label='Mann+ 2015 (MKs)',color='b',alpha=0.3)\n",
    "\n",
    "# plt.axhspan((0.41),(0.47), label='Magellan FIRE',color='orange', alpha=0.3)\n",
    "# plt.axvspan((3647),(3817), label='Magellan FIRE',color='orange')\n",
    "\n",
    "# plt.axvspan((3600),(3800), label='SALT HRS',color='blue')\n",
    "\n",
    "# plt.axvspan((3046),(3356), label='Mann+ 2015 (VJH)',color='purple')\n",
    "\n",
    "# plt.axhspan((0.316),(0.354), label='Michele Silversteins Pipeline',color='green',alpha=0.3)\n",
    "# plt.axvspan((3276),(3462),color='green')\n",
    "\n",
    "# plt.legend()\n",
    "# plt.show()"
   ]
  },
  {
   "cell_type": "code",
   "execution_count": null,
   "metadata": {},
   "outputs": [],
   "source": []
  }
 ],
 "metadata": {
  "kernelspec": {
   "display_name": "Python 3",
   "language": "python",
   "name": "python3"
  },
  "language_info": {
   "codemirror_mode": {
    "name": "ipython",
    "version": 3
   },
   "file_extension": ".py",
   "mimetype": "text/x-python",
   "name": "python",
   "nbconvert_exporter": "python",
   "pygments_lexer": "ipython3",
   "version": "3.7.4"
  }
 },
 "nbformat": 4,
 "nbformat_minor": 4
}
