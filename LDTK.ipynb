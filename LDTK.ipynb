{
 "cells": [
  {
   "cell_type": "code",
   "execution_count": 5,
   "metadata": {},
   "outputs": [],
   "source": [
    "from ldtk import (LDPSetCreator,BoxcarFilter)\n",
    "from ldtk.filters import kepler"
   ]
  },
  {
   "cell_type": "markdown",
   "metadata": {},
   "source": [
    "We first import the LDPSetCreator class that will create a set\n",
    "of limb darkening profiles for a given set of filters. Next, we define\n",
    "the filters, here using simple boxcar filters that have zero transmission\n",
    "outside the given minimum and maximum wavelength\n",
    "range. We continue by creating an instance of LDPSetCreator,\n",
    "initialising it with the filter set and stellar parameter estimates."
   ]
  },
  {
   "cell_type": "code",
   "execution_count": 6,
   "metadata": {},
   "outputs": [],
   "source": [
    "filters = [BoxcarFilter('a',450,550),BoxcarFilter('b',650,750),\n",
    "           BoxcarFilter('c',850,950)]\n",
    "\n",
    "filters = [kepler]\n",
    "\n",
    "sc = LDPSetCreator(filters=filters,\n",
    "                   teff=[6400,100],\n",
    "                   logg=[4.50, 0.10],\n",
    "                   z=[0.25, 0.05])\n",
    "\n",
    "ps = sc.create_profiles(nsamples=500)\n",
    "qc,qe = ps.coeffs_qd(do_mc=True)"
   ]
  },
  {
   "cell_type": "code",
   "execution_count": null,
   "metadata": {},
   "outputs": [],
   "source": []
  }
 ],
 "metadata": {
  "kernelspec": {
   "display_name": "Python 3",
   "language": "python",
   "name": "python3"
  },
  "language_info": {
   "codemirror_mode": {
    "name": "ipython",
    "version": 3
   },
   "file_extension": ".py",
   "mimetype": "text/x-python",
   "name": "python",
   "nbconvert_exporter": "python",
   "pygments_lexer": "ipython3",
   "version": "3.5.4"
  }
 },
 "nbformat": 4,
 "nbformat_minor": 2
}
