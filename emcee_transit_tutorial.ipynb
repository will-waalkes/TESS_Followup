{
 "cells": [
  {
   "cell_type": "code",
   "execution_count": null,
   "metadata": {},
   "outputs": [],
   "source": [
    "import numpy as np\n",
    "import matplotlib.pyplot as plt\n",
    "import emcee\n",
    "import batman"
   ]
  },
  {
   "cell_type": "markdown",
   "metadata": {},
   "source": [
    "# Bayes' Theorem:\n",
    "\n",
    "# $P(\\theta|D) = \\frac{P(D|\\theta)P(\\theta)}{P(D)}$\n",
    "\n",
    "---\n",
    "\n",
    "# P($\\theta$|D) is the posterior\n",
    "- the probability of a set of model parameters ($\\theta$) given our data (D).\n",
    "\n",
    "# P(D|$\\theta$) is the likelihood\n",
    "- how well a given model with parameters, $\\theta$, fits the data.\n",
    "\n",
    "# P($\\theta$) is the prior\n",
    "- our prior belief in the model parameters. This is usually based on what boundaries you think are physically reasonable for the system. Priors can be uniform (equal probability for all parameter values), gaussian, poisson, etc \n",
    "\n",
    "# P(D) is a normalization factor\n",
    "- usually this is very difficult or impossible to calculate, so we marginalize over it"
   ]
  },
  {
   "cell_type": "markdown",
   "metadata": {},
   "source": [
    "---\n",
    "\n",
    "\n",
    "When we are using Bayesian statistics in our MCMC, it is helpful to take the log of this expression:\n",
    "\n",
    "# $log(posterior) = log(likelihood) + log(prior) - log(normalization)$\n",
    "so that we can deal with simpler math\n",
    "\n",
    "---"
   ]
  },
  {
   "cell_type": "markdown",
   "metadata": {},
   "source": [
    "# Markov-Chain Monte Carlo\n",
    "\n",
    "This notebook isn't explicitly aiming to cover all of the fundamental statistics beneath emcee or model fitting in general, so I recommend you read [these](https://arxiv.org/pdf/1202.3665.pdf) [papers](https://arxiv.org/abs/1008.4686).\n",
    "\n",
    "MCMC is a process by which you can sample the \"true\" posterior distribution of parameter space as it is explored by \"walkers\". Basically your multi-dimensional probability space (let's say radius, mid-transit time, and flux baseline for an exoplanet transit) is populated with some number of \"walkers\" that explore the space and calculate a prior and a likelihood for each set of model parameters. The walker examines the probability of those model parameters and then makes a stochastic jump to a new set of parameters and examines how the new parameters compare. By doing this stochastically, that is, with an element of randomness determining where the walker moves to next, you can create a sample of the posterior distribution of your parameters and therefore fit a model to your data.\n",
    "\n",
    "The general idea is that we want to maximize the posterior probability of our parameters, which we can do by maximizing the likelihood and the prior. We aren't searching for a single \"best fit\" set of parameters, we're creating a probability distributions of our model parameters to better understand our model uncertainties.\n",
    "\n",
    "---"
   ]
  },
  {
   "cell_type": "markdown",
   "metadata": {},
   "source": [
    "# [emcee](https://emcee.readthedocs.io/en/stable/): an affine invariant* ensemble sampler for MCMC\n",
    "\n",
    "emcee is a package which helps us to run these complicated multi-dimensional explorations of probabiltiy space by only having to tune a few parameters. This package uses a Metropolis-Hastings algorithm for sampling small PDFs at any given point in parameter space.\n",
    "\n",
    "*Affine Invariant means this algorithm performs equally well under all linear transformations and is therefore insensitive to covariances among parameters.\n",
    "\n",
    "---"
   ]
  },
  {
   "cell_type": "markdown",
   "metadata": {},
   "source": [
    "# Let's simulate some transit data to analyze!"
   ]
  },
  {
   "cell_type": "markdown",
   "metadata": {},
   "source": [
    "Say we are observing a transit of TOI 237b:\n",
    "\n",
    "rp = 1.4 Rearth\n",
    "\n",
    "rs = 0.21 Rsun\n",
    "\n",
    "period = 5.4 days"
   ]
  },
  {
   "cell_type": "code",
   "execution_count": null,
   "metadata": {},
   "outputs": [],
   "source": [
    "def BATMAN_MODEL(rp,\n",
    "                 t0,\n",
    "                 baseline = 1.0,\n",
    "                 t = None):\n",
    "    \n",
    "    Rp = (rp/0.21)*(1/109) # Converts Rp in earth radii to dimensionless rp/r*\n",
    "                    \n",
    "    params = batman.TransitParams()\n",
    "    params.t0 = t0                       # time of inferior conjunction ()\n",
    "    params.rp = Rp                       # planet radius (in units of stellar radii)\n",
    "    params.per = 5.4                     # period in days -> time array MUST BE THE SAME UNITS\n",
    "    params.a = 34.7                      # semi-major axis (in units of stellar radii)\n",
    "    params.inc = 89.5                    # orbital inclination (in degrees)\n",
    "    params.ecc = 0.                      # eccentricity\n",
    "    params.w = 90.                       # longitude of periastron (in degrees)\n",
    "    params.u = [0.27,0.29]               # limb darkening coefficients [u1, u2]\n",
    "    params.limb_dark = \"quadratic\"       # limb darkening model\n",
    "        \n",
    "    m = batman.TransitModel(params, t)   # initializes model\n",
    "    \n",
    "    flux = m.light_curve(params)*baseline   # calculates light curve\n",
    "    \n",
    "    return flux"
   ]
  },
  {
   "cell_type": "code",
   "execution_count": null,
   "metadata": {},
   "outputs": [],
   "source": [
    "# set up a time array which is 6 hours long\n",
    "start_hr = -2.0\n",
    "stop_hr = 2.0\n",
    "length = 200\n",
    "times = np.linspace(start_hr/24,stop_hr/24,length) #converting the time array in hours to days\n",
    "\n",
    "# Now using the batman package, we can simulate an idealized transit\n",
    "sim_data = BATMAN_MODEL(rp = 1.4, t0=0, baseline = 1.0,  t = times)\n",
    "noise = 0.002 # 2ppt noise, about what I can get with LCO 1m observations\n",
    "scatter = np.random.normal(0,noise,length)\n",
    "\n",
    "data = sim_data + scatter\n",
    "err = np.linspace(0.002,0.002,length)\n",
    "\n",
    "plt.figure(figsize=(10,6))\n",
    "plt.errorbar(times,data,yerr=err,zorder=10000,alpha=0.5,label='simulated data',fmt='o')\n",
    "plt.legend(loc='lower left')\n",
    "plt.xlabel('Time from mid-transit (hr)')\n",
    "plt.ylabel('Relative Flux')\n",
    "plt.show()"
   ]
  },
  {
   "cell_type": "markdown",
   "metadata": {},
   "source": [
    "# Now before we start using Emcee, let's define a log posterior function, using a Gaussian likelihood and uniform priors"
   ]
  },
  {
   "cell_type": "code",
   "execution_count": null,
   "metadata": {},
   "outputs": [],
   "source": [
    "def lnprob(parameters, plot=False):\n",
    "        \n",
    "    # pull out some model parameters\n",
    "    Rp, t0, Baseline = parameters\n",
    "    \n",
    "    model_flux = BATMAN_MODEL(Rp, t0, Baseline, t = times)\n",
    "    \n",
    "    if plot:\n",
    "        plt.errorbar(times,data,yerr=err,fmt='o',alpha = 0.5,label='Simulated Data')\n",
    "        plt.plot(times,model_flux,label='MCMC Model',color='k',zorder=100)\n",
    "        plt.xlabel('Hours from Mid-Transit')\n",
    "        plt.ylabel('Flux')\n",
    "        \n",
    "        plt.legend(frameon=False)    \n",
    "        plt.show()\n",
    "        \n",
    "    \n",
    "    # let's put some hard limits on parameter space in place of more complicated priors\n",
    "    \n",
    "    if (0.0 < Baseline) and (0.0 <= Rp) and (-2.0 < t0 < 2.0 ):\n",
    "        chisq = np.sum((data - model_flux)**2/(err)**2)\n",
    "        lnp = np.sum(1/np.sqrt(2*np.pi*(err))) - 0.5*chisq #this is a gaussian likelihood\n",
    "    \n",
    "        return lnp\n",
    "    \n",
    "    return -np.inf"
   ]
  },
  {
   "cell_type": "markdown",
   "metadata": {},
   "source": [
    "Test that the lnprob, with a given set of (true) parameters, returns the expected model."
   ]
  },
  {
   "cell_type": "code",
   "execution_count": null,
   "metadata": {},
   "outputs": [],
   "source": [
    "params = [1.4, 0.0, 1.0] # [rp, t0, baseline]\n",
    "\n",
    "lnprob(params,plot=True)"
   ]
  },
  {
   "cell_type": "code",
   "execution_count": null,
   "metadata": {},
   "outputs": [],
   "source": [
    "# intialize some walkers\n",
    "ndim, nwalkers, nsteps = 3, 100, 3000\n",
    "\n",
    "# these are initial parameters\n",
    "baseline_init = np.random.uniform(0.9, 1.1, nwalkers)\n",
    "rp_init = np.random.uniform(0, 3, nwalkers)\n",
    "t0_init = np.random.uniform(-0.05, 0.05, nwalkers)\n",
    "\n",
    "p0 = np.transpose([rp_init, t0_init, baseline_init])"
   ]
  },
  {
   "cell_type": "code",
   "execution_count": null,
   "metadata": {},
   "outputs": [],
   "source": [
    "# create a sampler and run it\n",
    "sampler = emcee.EnsembleSampler(nwalkers, ndim, lnprob)\n",
    "result = sampler.run_mcmc(p0, nsteps)"
   ]
  },
  {
   "cell_type": "code",
   "execution_count": null,
   "metadata": {},
   "outputs": [],
   "source": [
    "burnin = int(0.1*nsteps) # let's toss out the first 10% of samples as the \"burn-in\"\n",
    "Rp, t0, Base = sampler.chain.T\n",
    "Rp_trimmed, t0_trimmed, Base_trimmed = sampler.chain.T[:, burnin:nsteps, :]\n",
    "\n",
    "rp_samples = Rp_trimmed.flatten()\n",
    "t0_samples = t0_trimmed.flatten()\n",
    "baseline_samples = Base_trimmed.flatten()"
   ]
  },
  {
   "cell_type": "markdown",
   "metadata": {},
   "source": [
    "# Let's plot our data and some random samples from the sampler to see how well the MCMC worked!"
   ]
  },
  {
   "cell_type": "code",
   "execution_count": null,
   "metadata": {},
   "outputs": [],
   "source": [
    "plt.figure(figsize=(12,8))\n",
    "plt.errorbar(times,data,yerr=err,fmt='o',alpha = 0.5,label='Simulated Data')\n",
    "plt.xlabel('Hours from Mid-Transit')\n",
    "plt.ylabel('Flux')\n",
    "\n",
    "#########################################\n",
    "# Plot 200 random models from the samples\n",
    "#########################################\n",
    "    \n",
    "for j in range(0,200,1):\n",
    "    i = np.random.randint(low=0,high=(nsteps-burnin)*nwalkers)\n",
    "    sampled_model = BATMAN_MODEL(rp = rp_samples[i], t0 = t0_samples[i], baseline = baseline_samples[i],  t = times)\n",
    "    plt.plot(times,sampled_model,color='darkred',alpha = 0.1,\n",
    "            linewidth=0.8,zorder=100)\n",
    "\n",
    "plt.show()"
   ]
  },
  {
   "cell_type": "code",
   "execution_count": null,
   "metadata": {},
   "outputs": [],
   "source": [
    "def plot_chain(start=0, stop=nsteps):\n",
    "    '''Plot the chain, in a couple different ways.'''\n",
    "\n",
    "    plt.figure(figsize=(14,14))\n",
    "    gs = plt.matplotlib.gridspec.GridSpec(4,2, hspace=0.6)\n",
    "    \n",
    "    #Walker Plots\n",
    "    ax_Base = plt.subplot(gs[0,0])\n",
    "    ax_Base.plot(Base.flatten()[::nwalkers],color='black',alpha=0.5); \n",
    "    ax_Base.axvspan(start, stop, zorder=-1,alpha=0.3); \n",
    "    ax_Base.set_ylabel('Baseline Flux')\n",
    "    \n",
    "    ax_Rp = plt.subplot(gs[0,1], sharex=ax_Base)\n",
    "    ax_Rp.plot(Rp.flatten()[::nwalkers],color='black',alpha=0.5)\n",
    "    ax_Rp.axvspan(start, stop, zorder=-1,alpha=0.3)\n",
    "    ax_Rp.set_ylabel('Rp')\n",
    "    \n",
    "    ax_t0 = plt.subplot(gs[1,0], sharex=ax_Base)\n",
    "    ax_t0.plot(t0.flatten()[::nwalkers],color='black',alpha=0.5)\n",
    "    ax_t0.axvspan(start, stop, zorder=-1,alpha=0.3)\n",
    "    ax_t0.set_ylabel('Mid-Transit Time (hr)')\n",
    "    \n",
    "    #Histograms\n",
    "    ax_Basehist = plt.subplot(gs[1,1])\n",
    "    ax_Basehist.hist(Base.flatten(),color='black',bins=60)\n",
    "    ax_Basehist.axvline(1.0,zorder=100,color='purple')\n",
    "    ax_Basehist.set_xlabel('Baseline')\n",
    "    \n",
    "    ax_Rphist = plt.subplot(gs[2,0])\n",
    "    ax_Rphist.hist(Rp.flatten(),color='black',bins=60)\n",
    "    ax_Rphist.set_xlabel('Rp')\n",
    "    \n",
    "    ax_t0hist = plt.subplot(gs[2,1])\n",
    "    ax_t0hist.hist(t0.flatten(),color='black',bins=60)\n",
    "    ax_t0hist.set_xlabel('Mid-Transit')"
   ]
  },
  {
   "cell_type": "code",
   "execution_count": null,
   "metadata": {},
   "outputs": [],
   "source": [
    "plot_chain(burnin,nsteps)"
   ]
  },
  {
   "cell_type": "code",
   "execution_count": null,
   "metadata": {},
   "outputs": [],
   "source": []
  }
 ],
 "metadata": {
  "kernelspec": {
   "display_name": "Python 3",
   "language": "python",
   "name": "python3"
  },
  "language_info": {
   "codemirror_mode": {
    "name": "ipython",
    "version": 3
   },
   "file_extension": ".py",
   "mimetype": "text/x-python",
   "name": "python",
   "nbconvert_exporter": "python",
   "pygments_lexer": "ipython3",
   "version": "3.8.3"
  }
 },
 "nbformat": 4,
 "nbformat_minor": 4
}
